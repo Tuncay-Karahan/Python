{
 "cells": [
  {
   "cell_type": "markdown",
   "id": "a4d28681",
   "metadata": {},
   "source": [
    "**Script Statistik Labor 1 Aufgabe 2**"
   ]
  },
  {
   "cell_type": "markdown",
   "id": "45ce22ef",
   "metadata": {},
   "source": [
    "**Aufgabe 1: Einlesen der Daten in Python**"
   ]
  },
  {
   "cell_type": "code",
   "execution_count": 1,
   "id": "43c14bca",
   "metadata": {},
   "outputs": [],
   "source": [
    "import numpy as np\n",
    "import pandas as pd\n",
    "from scipy.optimize import  curve_fit\n",
    "from sklearn.preprocessing import StandardScaler\n",
    "from sklearn.preprocessing import PolynomialFeatures\n",
    "from sklearn.linear_model import LinearRegression\n",
    "import matplotlib.pyplot as plt\n",
    "import math"
   ]
  },
  {
   "cell_type": "code",
   "execution_count": 2,
   "id": "b4e20a9d",
   "metadata": {},
   "outputs": [],
   "source": [
    "dataframe = pd.read_csv('sr_aufg_2_35.txt',\n",
    "                        sep = r\"\\s+\",\n",
    "                        decimal=\",\",\n",
    "                        header = None, names = [\"Jahr\",\"Einwohner in Millionen\"],)"
   ]
  },
  {
   "cell_type": "code",
   "execution_count": 3,
   "id": "a9ebb1f9",
   "metadata": {},
   "outputs": [
    {
     "data": {
      "text/html": [
       "<div>\n",
       "<style scoped>\n",
       "    .dataframe tbody tr th:only-of-type {\n",
       "        vertical-align: middle;\n",
       "    }\n",
       "\n",
       "    .dataframe tbody tr th {\n",
       "        vertical-align: top;\n",
       "    }\n",
       "\n",
       "    .dataframe thead th {\n",
       "        text-align: right;\n",
       "    }\n",
       "</style>\n",
       "<table border=\"1\" class=\"dataframe\">\n",
       "  <thead>\n",
       "    <tr style=\"text-align: right;\">\n",
       "      <th></th>\n",
       "      <th>Jahr</th>\n",
       "      <th>Einwohner in Millionen</th>\n",
       "    </tr>\n",
       "  </thead>\n",
       "  <tbody>\n",
       "    <tr>\n",
       "      <th>0</th>\n",
       "      <td>1790</td>\n",
       "      <td>3.929214</td>\n",
       "    </tr>\n",
       "    <tr>\n",
       "      <th>1</th>\n",
       "      <td>1800</td>\n",
       "      <td>5.308483</td>\n",
       "    </tr>\n",
       "    <tr>\n",
       "      <th>2</th>\n",
       "      <td>1820</td>\n",
       "      <td>9.638453</td>\n",
       "    </tr>\n",
       "    <tr>\n",
       "      <th>3</th>\n",
       "      <td>1830</td>\n",
       "      <td>12.866020</td>\n",
       "    </tr>\n",
       "    <tr>\n",
       "      <th>4</th>\n",
       "      <td>1840</td>\n",
       "      <td>17.069453</td>\n",
       "    </tr>\n",
       "    <tr>\n",
       "      <th>5</th>\n",
       "      <td>1850</td>\n",
       "      <td>23.191876</td>\n",
       "    </tr>\n",
       "    <tr>\n",
       "      <th>6</th>\n",
       "      <td>1860</td>\n",
       "      <td>31.443321</td>\n",
       "    </tr>\n",
       "    <tr>\n",
       "      <th>7</th>\n",
       "      <td>1870</td>\n",
       "      <td>39.818449</td>\n",
       "    </tr>\n",
       "    <tr>\n",
       "      <th>8</th>\n",
       "      <td>1880</td>\n",
       "      <td>50.189209</td>\n",
       "    </tr>\n",
       "    <tr>\n",
       "      <th>9</th>\n",
       "      <td>1890</td>\n",
       "      <td>62.979766</td>\n",
       "    </tr>\n",
       "    <tr>\n",
       "      <th>10</th>\n",
       "      <td>1900</td>\n",
       "      <td>76.212168</td>\n",
       "    </tr>\n",
       "    <tr>\n",
       "      <th>11</th>\n",
       "      <td>1910</td>\n",
       "      <td>92.228496</td>\n",
       "    </tr>\n",
       "    <tr>\n",
       "      <th>12</th>\n",
       "      <td>1920</td>\n",
       "      <td>106.021537</td>\n",
       "    </tr>\n",
       "    <tr>\n",
       "      <th>13</th>\n",
       "      <td>1930</td>\n",
       "      <td>123.202624</td>\n",
       "    </tr>\n",
       "    <tr>\n",
       "      <th>14</th>\n",
       "      <td>1940</td>\n",
       "      <td>132.164569</td>\n",
       "    </tr>\n",
       "    <tr>\n",
       "      <th>15</th>\n",
       "      <td>1950</td>\n",
       "      <td>151.325798</td>\n",
       "    </tr>\n",
       "    <tr>\n",
       "      <th>16</th>\n",
       "      <td>1960</td>\n",
       "      <td>179.323175</td>\n",
       "    </tr>\n",
       "    <tr>\n",
       "      <th>17</th>\n",
       "      <td>1970</td>\n",
       "      <td>203.302031</td>\n",
       "    </tr>\n",
       "    <tr>\n",
       "      <th>18</th>\n",
       "      <td>1980</td>\n",
       "      <td>226.542199</td>\n",
       "    </tr>\n",
       "    <tr>\n",
       "      <th>19</th>\n",
       "      <td>1990</td>\n",
       "      <td>248.718302</td>\n",
       "    </tr>\n",
       "    <tr>\n",
       "      <th>20</th>\n",
       "      <td>2000</td>\n",
       "      <td>281.424603</td>\n",
       "    </tr>\n",
       "    <tr>\n",
       "      <th>21</th>\n",
       "      <td>2010</td>\n",
       "      <td>308.745538</td>\n",
       "    </tr>\n",
       "  </tbody>\n",
       "</table>\n",
       "</div>"
      ],
      "text/plain": [
       "    Jahr  Einwohner in Millionen\n",
       "0   1790                3.929214\n",
       "1   1800                5.308483\n",
       "2   1820                9.638453\n",
       "3   1830               12.866020\n",
       "4   1840               17.069453\n",
       "5   1850               23.191876\n",
       "6   1860               31.443321\n",
       "7   1870               39.818449\n",
       "8   1880               50.189209\n",
       "9   1890               62.979766\n",
       "10  1900               76.212168\n",
       "11  1910               92.228496\n",
       "12  1920              106.021537\n",
       "13  1930              123.202624\n",
       "14  1940              132.164569\n",
       "15  1950              151.325798\n",
       "16  1960              179.323175\n",
       "17  1970              203.302031\n",
       "18  1980              226.542199\n",
       "19  1990              248.718302\n",
       "20  2000              281.424603\n",
       "21  2010              308.745538"
      ]
     },
     "execution_count": 3,
     "metadata": {},
     "output_type": "execute_result"
    }
   ],
   "source": [
    "dataframe"
   ]
  },
  {
   "cell_type": "code",
   "execution_count": 4,
   "id": "443b0871",
   "metadata": {},
   "outputs": [],
   "source": [
    "x=dataframe['Jahr']\n",
    "x=x.to_numpy()\n",
    "x=x.reshape(-1,1)\n",
    "scaler = StandardScaler()\n",
    "x_scaled = scaler.fit_transform(x)"
   ]
  },
  {
   "cell_type": "markdown",
   "id": "20766a66",
   "metadata": {},
   "source": [
    "**Aufgabe 2: Streudiagramm**"
   ]
  },
  {
   "cell_type": "code",
   "execution_count": 5,
   "id": "a5b58682",
   "metadata": {},
   "outputs": [
    {
     "data": {
      "text/plain": [
       "Text(0.5, 0, 'Jahreszahlen')"
      ]
     },
     "execution_count": 5,
     "metadata": {},
     "output_type": "execute_result"
    },
    {
     "data": {
      "image/png": "[encoded data removed]",
      "text/plain": [
       "<Figure size 432x288 with 1 Axes>"
      ]
     },
     "metadata": {
      "needs_background": "light"
     },
     "output_type": "display_data"
    }
   ],
   "source": [
    "plt.scatter(dataframe['Jahr'], dataframe['Einwohner in Millionen'], marker='o', color='green')\n",
    "plt.title(\" Aufgabe 2 Streudiagramm\")\n",
    "plt.ylabel('Einwohner in Millionen')\n",
    "plt.xlabel('Jahreszahlen')"
   ]
  },
  {
   "cell_type": "markdown",
   "id": "be02540c",
   "metadata": {},
   "source": [
    "**Polynom 1.Grades**"
   ]
  },
  {
   "cell_type": "code",
   "execution_count": 6,
   "id": "613122e1",
   "metadata": {},
   "outputs": [
    {
     "name": "stdout",
     "output_type": "stream",
     "text": [
      "Die Gleichung der linearen Funktion: \n",
      "y = 108.44 + 89.9874 * x\n",
      "Das Bestimmtheitsmaß der linearen Funktion ist: 0.9193\n"
     ]
    }
   ],
   "source": [
    "PolyNr1_features = PolynomialFeatures(degree = 1)\n",
    "\n",
    "\n",
    "PloyNr1_pop = PolyNr1_features.fit_transform(x_scaled)\n",
    "PolyNr1_pop_model = LinearRegression()\n",
    "PolyNr1_pop_model.fit(PloyNr1_pop, dataframe['Einwohner in Millionen'])\n",
    "\n",
    "PolyNr1_coeff = PolyNr1_pop_model.intercept_, PolyNr1_pop_model.coef_[1]\n",
    "print('Die Gleichung der linearen Funktion: \\ny = %4.2f + %4.4f * x' %PolyNr1_coeff)\n",
    "\n",
    "r_sqr_1 = PolyNr1_pop_model.score(PloyNr1_pop, dataframe['Einwohner in Millionen'])\n",
    "print('Das Bestimmtheitsmaß der linearen Funktion ist: %1.4f' %r_sqr_1)"
   ]
  },
  {
   "cell_type": "markdown",
   "id": "bca171f8",
   "metadata": {},
   "source": [
    "**Polynom 2.Grades**"
   ]
  },
  {
   "cell_type": "code",
   "execution_count": 7,
   "id": "771817f6",
   "metadata": {},
   "outputs": [
    {
     "name": "stdout",
     "output_type": "stream",
     "text": [
      "Die Gleichung des Polynoms Grad 2 lautet: \n",
      "y = 79.96 + 91.9297 * x + 28.4808 * x^2\n",
      "Das Bestimmtheitsmaß der quadratischen Regression ist: 0.9991\n"
     ]
    }
   ],
   "source": [
    "PolyNr2_features = PolynomialFeatures(degree = 2)\n",
    "\n",
    "\n",
    "PolyNr2_pop = PolyNr2_features.fit_transform(x_scaled)\n",
    "PolyNr2_pop_model = LinearRegression()\n",
    "PolyNr2_pop_model.fit(PolyNr2_pop, dataframe['Einwohner in Millionen'])\n",
    "\n",
    "PolyNr2_coeff = PolyNr2_pop_model.intercept_, PolyNr2_pop_model.coef_[1], PolyNr2_pop_model.coef_[2]\n",
    "print('Die Gleichung des Polynoms Grad 2 lautet: \\ny = %4.2f + %4.4f * x + %4.4f * x^2' %PolyNr2_coeff)\n",
    "\n",
    "r_sqr_2 = PolyNr2_pop_model.score(PolyNr2_pop, dataframe['Einwohner in Millionen'])\n",
    "print('Das Bestimmtheitsmaß der quadratischen Regression ist: %1.4f' %r_sqr_2)"
   ]
  },
  {
   "cell_type": "markdown",
   "id": "c10d30f4",
   "metadata": {},
   "source": [
    "**Aufgabe 4&5: Optimale Regressionskurve einzeichnen**\n",
    "\n",
    "Es kommt auf das Bestimmtheitsmaß an welches bei dem Polynom des 2. Grades sehr hoch ist.\n",
    "\n",
    "Der Unterschied der Funktionen höherer grade ist nur nach der vierten Nachkommastelle zu bemerken, also sind die Unterschiede sehr gering aber der Aufwand wird höher. Desshalb ist der Polynom des 2. Grades perfekt geeignet da wir da einen genauen wert bei weniger Aufwand erziehlen."
   ]
  },
  {
   "cell_type": "code",
   "execution_count": 8,
   "id": "8d5deb18",
   "metadata": {},
   "outputs": [
    {
     "data": {
      "text/plain": [
       "[<matplotlib.lines.Line2D at 0x164cdf1c1c0>]"
      ]
     },
     "execution_count": 8,
     "metadata": {},
     "output_type": "execute_result"
    },
    {
     "data": {
      "image/png": "[encoded data removed]",
      "text/plain": [
       "<Figure size 432x288 with 1 Axes>"
      ]
     },
     "metadata": {
      "needs_background": "light"
     },
     "output_type": "display_data"
    }
   ],
   "source": [
    "PolyNr2_pop_predict=PolyNr2_pop_model.predict(PolyNr2_pop)\n",
    "plt.scatter(dataframe['Jahr'], dataframe['Einwohner in Millionen'], marker='o', color='green')\n",
    "plt.title(\"Polynom 2 Grades in Streudiagramm\")\n",
    "plt.ylabel('Einwohner in Millionen')\n",
    "plt.xlabel('Jahreszahlen')\n",
    "plt.plot(x, PolyNr2_pop_predict, color='lightgreen', linewidth=3)"
   ]
  },
  {
   "cell_type": "markdown",
   "id": "5f51d763",
   "metadata": {},
   "source": [
    "**Polynom 3.Grades**"
   ]
  },
  {
   "cell_type": "code",
   "execution_count": 9,
   "id": "0b47574a",
   "metadata": {},
   "outputs": [
    {
     "name": "stdout",
     "output_type": "stream",
     "text": [
      "Die Gleichung des Polynoms Grad 3 lautet: \n",
      "y = 79.76 + 88.8612*x + 28.7872*x^2 + 1.6513*x^3\n",
      "Das Bestimmtheitsmaß der Regression mit dem Polynom vom Grad 3 ist: \n",
      "0.9993\n"
     ]
    }
   ],
   "source": [
    "PolyNr3_features = PolynomialFeatures(degree = 3)\n",
    "\n",
    "\n",
    "PolyNr3_pop = PolyNr3_features.fit_transform(x_scaled)\n",
    "PolyNr3_pop_model = LinearRegression()\n",
    "PolyNr3_pop_model.fit(PolyNr3_pop, dataframe['Einwohner in Millionen'])\n",
    "\n",
    "PolyNr3_coeff = PolyNr3_pop_model.intercept_, PolyNr3_pop_model.coef_[1], PolyNr3_pop_model.coef_[2], PolyNr3_pop_model.coef_[3]\n",
    "print('Die Gleichung des Polynoms Grad 3 lautet: \\ny = %4.2f + %4.4f*x + %4.4f*x^2 + %4.4f*x^3' %PolyNr3_coeff)\n",
    "\n",
    "r_sqr_3 = PolyNr3_pop_model.score(PolyNr3_pop, dataframe['Einwohner in Millionen'])\n",
    "print('Das Bestimmtheitsmaß der Regression mit dem Polynom vom Grad 3 ist: \\n%1.4f' %r_sqr_3)"
   ]
  },
  {
   "cell_type": "markdown",
   "id": "7c5781ca",
   "metadata": {},
   "source": [
    "**Polynom 4.Grades**"
   ]
  },
  {
   "cell_type": "code",
   "execution_count": 10,
   "id": "33dc01d5",
   "metadata": {},
   "outputs": [
    {
     "name": "stdout",
     "output_type": "stream",
     "text": [
      "Die Gleichung des Polynoms Grad 4 lautet: \n",
      "y = 80.62 + 88.5442*x + 25.9886*x^2 + 1.9182*x^3 + 1.0463*x^4\n",
      "Das Bestimmtheitsmaß der Regression mit dem Polynom vom Grad 4 ist: \n",
      "0.9993\n"
     ]
    }
   ],
   "source": [
    "PolyNr4_features = PolynomialFeatures(degree = 4)\n",
    "\n",
    "\n",
    "PolyNr4_pop = PolyNr4_features.fit_transform(x_scaled)\n",
    "PolyNr4_pop_model = LinearRegression()\n",
    "PolyNr4_pop_model.fit(PolyNr4_pop, dataframe['Einwohner in Millionen'])\n",
    "\n",
    "PolyNr4_coeff = PolyNr4_pop_model.intercept_, PolyNr4_pop_model.coef_[1], PolyNr4_pop_model.coef_[2], PolyNr4_pop_model.coef_[3],PolyNr4_pop_model.coef_[4]\n",
    "print('Die Gleichung des Polynoms Grad 4 lautet: \\ny = %4.2f + %4.4f*x + %4.4f*x^2 + %4.4f*x^3 + %4.4f*x^4' %PolyNr4_coeff)\n",
    "\n",
    "r_sqr_4 = PolyNr4_pop_model.score(PolyNr4_pop, dataframe['Einwohner in Millionen'])\n",
    "print('Das Bestimmtheitsmaß der Regression mit dem Polynom vom Grad 4 ist: \\n%1.4f' %r_sqr_4)"
   ]
  },
  {
   "cell_type": "markdown",
   "id": "76f29efd",
   "metadata": {},
   "source": [
    "**Polynom 5.Grades**"
   ]
  },
  {
   "cell_type": "code",
   "execution_count": 11,
   "id": "ec230ad4",
   "metadata": {},
   "outputs": [
    {
     "name": "stdout",
     "output_type": "stream",
     "text": [
      "Die Gleichung des Polynoms Grad 5 lautet: \n",
      "y = 80.63 + 88.6151*x + 25.9739*x^2 + 1.8081*x^3 + 1.0547*x^4 + 0.0322*x^5\n",
      "Das Bestimmtheitsmaß der Regression mit dem Polynom vom Grad 5 ist: \n",
      "0.9993\n"
     ]
    }
   ],
   "source": [
    "PolyNr5_features = PolynomialFeatures(degree = 5)\n",
    "\n",
    "\n",
    "PolyNr5_pop = PolyNr5_features.fit_transform(x_scaled)\n",
    "PolyNr5_pop_model = LinearRegression()\n",
    "PolyNr5_pop_model.fit(PolyNr5_pop, dataframe['Einwohner in Millionen'])\n",
    "\n",
    "PolyNr5_coeff = PolyNr5_pop_model.intercept_, PolyNr5_pop_model.coef_[1], PolyNr5_pop_model.coef_[2], PolyNr5_pop_model.coef_[3], PolyNr5_pop_model.coef_[4], PolyNr5_pop_model.coef_[5]\n",
    "print('Die Gleichung des Polynoms Grad 5 lautet: \\ny = %4.2f + %4.4f*x + %4.4f*x^2 + %4.4f*x^3 + %4.4f*x^4 + %4.4f*x^5' %PolyNr5_coeff)\n",
    "\n",
    "r_sqr_5 = PolyNr5_pop_model.score(PolyNr5_pop, dataframe['Einwohner in Millionen'])\n",
    "print('Das Bestimmtheitsmaß der Regression mit dem Polynom vom Grad 5 ist: \\n%1.4f' %r_sqr_5)"
   ]
  },
  {
   "cell_type": "markdown",
   "id": "9643e1ec",
   "metadata": {},
   "source": [
    "**Polynom 6.Grades**"
   ]
  },
  {
   "cell_type": "code",
   "execution_count": 12,
   "id": "0a3a6033",
   "metadata": {},
   "outputs": [
    {
     "name": "stdout",
     "output_type": "stream",
     "text": [
      "Die Gleichung des Polynoms Grad 6 lautet: \n",
      "y = 81.75 + 87.9566*x + 17.9615*x^2 + 3.1502*x^3 + 9.1556*x^4 + -0.5079*x^5 + -1.9687*x^6\n",
      "Das Bestimmtheitsmaß der Regression mit dem Polynom vom Grad 6 ist: \n",
      "0.9995\n"
     ]
    }
   ],
   "source": [
    "PolyNr6_features = PolynomialFeatures(degree = 6)\n",
    "\n",
    "\n",
    "PolyNr6_pop = PolyNr6_features.fit_transform(x_scaled)\n",
    "PolyNr6_pop_model = LinearRegression()\n",
    "PolyNr6_pop_model.fit(PolyNr6_pop, dataframe['Einwohner in Millionen'])\n",
    "\n",
    "PolyNr6_coeff = PolyNr6_pop_model.intercept_, PolyNr6_pop_model.coef_[1], PolyNr6_pop_model.coef_[2], PolyNr6_pop_model.coef_[3], PolyNr6_pop_model.coef_[4], PolyNr6_pop_model.coef_[5], PolyNr6_pop_model.coef_[6]\n",
    "print('Die Gleichung des Polynoms Grad 6 lautet: \\ny = %4.2f + %4.4f*x + %4.4f*x^2 + %4.4f*x^3 + %4.4f*x^4 + %4.4f*x^5 + %4.4f*x^6' %PolyNr6_coeff)\n",
    "\n",
    "r_sqr_6 = PolyNr6_pop_model.score(PolyNr6_pop, dataframe['Einwohner in Millionen'])\n",
    "print('Das Bestimmtheitsmaß der Regression mit dem Polynom vom Grad 6 ist: \\n%1.4f' %r_sqr_6)"
   ]
  },
  {
   "cell_type": "markdown",
   "id": "369cc9a3",
   "metadata": {},
   "source": [
    "**Exponentialfunktion**"
   ]
  },
  {
   "cell_type": "code",
   "execution_count": 13,
   "id": "b0a00bca",
   "metadata": {},
   "outputs": [
    {
     "name": "stdout",
     "output_type": "stream",
     "text": [
      "Die Gleichung der Exponentialfunktion: \n",
      "y = 0.01 + 0.0000 * x\n",
      "Das Bestimmtheitsmaß der Exponentialfunktion: 0.9861\n"
     ]
    }
   ],
   "source": [
    "def f1(x,b,a): return a*np.exp(b*x)\n",
    "\n",
    "coefsexp,covexp=curve_fit(f1, dataframe['Jahr'], dataframe['Einwohner in Millionen'], p0=(0.01,0.1))\n",
    "print('Die Gleichung der Exponentialfunktion: \\ny = %4.2f + %4.4f * x'% (coefsexp[0],coefsexp[1]))\n",
    "\n",
    "\n",
    "residuals = dataframe['Einwohner in Millionen'].to_numpy().reshape(-1,1)-f1(x, *coefsexp)\n",
    "ss_res = np.sum(residuals**2)\n",
    "ss_tot = np.sum((dataframe['Einwohner in Millionen']-np.mean(dataframe['Einwohner in Millionen']))**2)\n",
    "\n",
    "r_exp = 1 - (ss_res / ss_tot)\n",
    "print('Das Bestimmtheitsmaß der Exponentialfunktion: %1.4f' %r_exp)"
   ]
  },
  {
   "cell_type": "markdown",
   "id": "817e7f04",
   "metadata": {},
   "source": [
    "**Logarithmusfunktion**"
   ]
  },
  {
   "cell_type": "code",
   "execution_count": 14,
   "id": "d32ec836",
   "metadata": {},
   "outputs": [
    {
     "name": "stdout",
     "output_type": "stream",
     "text": [
      "Die Gleichung der Logarithmusfunktion: \n",
      "y = 19684.46 + 2621.1667 * x\n",
      "Das Bestimmtheitsmaß der Logarithmusfunktion: 0.9105\n"
     ]
    }
   ],
   "source": [
    "def f(x,b,a): return a*np.log(x)-b\n",
    "\n",
    "coefslog,covlog=curve_fit(f, dataframe['Jahr'], dataframe['Einwohner in Millionen'])\n",
    "print('Die Gleichung der Logarithmusfunktion: \\ny = %4.2f + %4.4f * x'% (coefslog[0],coefslog[1]))\n",
    "\n",
    "\n",
    "residuals = dataframe['Einwohner in Millionen'].to_numpy().reshape(-1,1)-f(x, *coefslog)\n",
    "ss_res = np.sum(residuals**2)\n",
    "ss_tot = np.sum((dataframe['Einwohner in Millionen']-np.mean(dataframe['Einwohner in Millionen']))**2)\n",
    "\n",
    "r_log = 1 - (ss_res / ss_tot)\n",
    "print('Das Bestimmtheitsmaß der Logarithmusfunktion: %1.4f' %r_log)"
   ]
  },
  {
   "cell_type": "markdown",
   "id": "adf197da",
   "metadata": {},
   "source": [
    "**Aufgabe 6: Prognose 2020 mit Polynom 2.Grades**"
   ]
  },
  {
   "cell_type": "code",
   "execution_count": 15,
   "id": "040e6a0d",
   "metadata": {},
   "outputs": [],
   "source": [
    "PolyNr2_features = PolynomialFeatures(degree = 2)\n",
    "PolyNr2_pop = PolyNr2_features.fit_transform(x)\n",
    "PolyNr2_pop_model = LinearRegression()\n",
    "PolyNr2_pop_model.fit(PolyNr2_pop, dataframe['Einwohner in Millionen'])\n",
    "PolyNr2_coeff_prog = PolyNr2_pop_model.intercept_, PolyNr2_pop_model.coef_[1], PolyNr2_pop_model.coef_[2]"
   ]
  },
  {
   "cell_type": "code",
   "execution_count": 16,
   "id": "8ceb537d",
   "metadata": {},
   "outputs": [
    {
     "name": "stdout",
     "output_type": "stream",
     "text": [
      "--> Prognose für das Jahr 2020: 334.86 Millionen Einwohner in den USA <--\n"
     ]
    }
   ],
   "source": [
    "year=2020\n",
    "forecast=PolyNr2_coeff_prog[0]+PolyNr2_coeff_prog[1]*year+PolyNr2_coeff_prog[2]*(year*year)\n",
    "print(f'--> Prognose für das Jahr {year}: {forecast:.2f} Millionen Einwohner in den USA <--')"
   ]
  },
  {
   "cell_type": "code",
   "execution_count": null,
   "id": "e6e97fcd",
   "metadata": {},
   "outputs": [],
   "source": []
  },
  {
   "cell_type": "markdown",
   "id": "099b89f3",
   "metadata": {},
   "source": [
    "**Tabelle zur darstellung des Bestimmtheitsmaßes der verschiedenen Polynomen**"
   ]
  },
  {
   "cell_type": "code",
   "execution_count": 17,
   "id": "e2f2eec2",
   "metadata": {},
   "outputs": [
    {
     "data": {
      "text/html": [
       "<div>\n",
       "<style scoped>\n",
       "    .dataframe tbody tr th:only-of-type {\n",
       "        vertical-align: middle;\n",
       "    }\n",
       "\n",
       "    .dataframe tbody tr th {\n",
       "        vertical-align: top;\n",
       "    }\n",
       "\n",
       "    .dataframe thead th {\n",
       "        text-align: right;\n",
       "    }\n",
       "</style>\n",
       "<table border=\"1\" class=\"dataframe\">\n",
       "  <thead>\n",
       "    <tr style=\"text-align: right;\">\n",
       "      <th></th>\n",
       "      <th>Type</th>\n",
       "      <th>Bestimmtheistmaß</th>\n",
       "      <th>Y-Achsenabschnitt</th>\n",
       "      <th>1.Koeffizient</th>\n",
       "      <th>2.Koeffizient</th>\n",
       "      <th>3.Koeffizient</th>\n",
       "      <th>4.Koeffizient</th>\n",
       "      <th>5.Koeffizient</th>\n",
       "      <th>6.Koeffizient</th>\n",
       "    </tr>\n",
       "  </thead>\n",
       "  <tbody>\n",
       "    <tr>\n",
       "      <th>0</th>\n",
       "      <td>Polynom 1. Grades</td>\n",
       "      <td>0.9193</td>\n",
       "      <td>108.4384</td>\n",
       "      <td>89.9874</td>\n",
       "      <td>-</td>\n",
       "      <td>-</td>\n",
       "      <td>-</td>\n",
       "      <td>-</td>\n",
       "      <td>-</td>\n",
       "    </tr>\n",
       "    <tr>\n",
       "      <th>1</th>\n",
       "      <td>Polynom 2. Grades</td>\n",
       "      <td>0.9991</td>\n",
       "      <td>79.9577</td>\n",
       "      <td>91.9297</td>\n",
       "      <td>28.4808</td>\n",
       "      <td>-</td>\n",
       "      <td>-</td>\n",
       "      <td>-</td>\n",
       "      <td>-</td>\n",
       "    </tr>\n",
       "    <tr>\n",
       "      <th>2</th>\n",
       "      <td>Polynom 3. Grades</td>\n",
       "      <td>0.9993</td>\n",
       "      <td>79.7638</td>\n",
       "      <td>88.8612</td>\n",
       "      <td>28.7872</td>\n",
       "      <td>1.6513</td>\n",
       "      <td>-</td>\n",
       "      <td>-</td>\n",
       "      <td>-</td>\n",
       "    </tr>\n",
       "    <tr>\n",
       "      <th>3</th>\n",
       "      <td>Polynom 4. Grades</td>\n",
       "      <td>0.9993</td>\n",
       "      <td>80.6231</td>\n",
       "      <td>88.5442</td>\n",
       "      <td>25.9886</td>\n",
       "      <td>1.9182</td>\n",
       "      <td>1.0463</td>\n",
       "      <td>-</td>\n",
       "      <td>-</td>\n",
       "    </tr>\n",
       "    <tr>\n",
       "      <th>4</th>\n",
       "      <td>Polynom 5. Grades</td>\n",
       "      <td>0.9993</td>\n",
       "      <td>80.6261</td>\n",
       "      <td>88.6151</td>\n",
       "      <td>25.9739</td>\n",
       "      <td>1.8081</td>\n",
       "      <td>1.0547</td>\n",
       "      <td>0.0322</td>\n",
       "      <td>-</td>\n",
       "    </tr>\n",
       "    <tr>\n",
       "      <th>5</th>\n",
       "      <td>Polynom 6. Grades</td>\n",
       "      <td>0.9995</td>\n",
       "      <td>81.7548</td>\n",
       "      <td>87.9566</td>\n",
       "      <td>17.9615</td>\n",
       "      <td>3.1502</td>\n",
       "      <td>9.1556</td>\n",
       "      <td>-0.5079</td>\n",
       "      <td>-1.9687</td>\n",
       "    </tr>\n",
       "    <tr>\n",
       "      <th>6</th>\n",
       "      <td>Exponentialfunktion</td>\n",
       "      <td>0.9861</td>\n",
       "      <td>0.0135</td>\n",
       "      <td>0.0000</td>\n",
       "      <td>-</td>\n",
       "      <td>-</td>\n",
       "      <td>-</td>\n",
       "      <td>-</td>\n",
       "      <td>-</td>\n",
       "    </tr>\n",
       "    <tr>\n",
       "      <th>7</th>\n",
       "      <td>Logarithmusfunktion</td>\n",
       "      <td>0.9105</td>\n",
       "      <td>19684.4553</td>\n",
       "      <td>2621.1667</td>\n",
       "      <td>-</td>\n",
       "      <td>-</td>\n",
       "      <td>-</td>\n",
       "      <td>-</td>\n",
       "      <td>-</td>\n",
       "    </tr>\n",
       "  </tbody>\n",
       "</table>\n",
       "</div>"
      ],
      "text/plain": [
       "                  Type Bestimmtheistmaß Y-Achsenabschnitt 1.Koeffizient  \\\n",
       "0    Polynom 1. Grades           0.9193          108.4384       89.9874   \n",
       "1    Polynom 2. Grades           0.9991           79.9577       91.9297   \n",
       "2    Polynom 3. Grades           0.9993           79.7638       88.8612   \n",
       "3    Polynom 4. Grades           0.9993           80.6231       88.5442   \n",
       "4    Polynom 5. Grades           0.9993           80.6261       88.6151   \n",
       "5    Polynom 6. Grades           0.9995           81.7548       87.9566   \n",
       "6  Exponentialfunktion           0.9861            0.0135        0.0000   \n",
       "7  Logarithmusfunktion           0.9105        19684.4553     2621.1667   \n",
       "\n",
       "  2.Koeffizient 3.Koeffizient 4.Koeffizient 5.Koeffizient 6.Koeffizient  \n",
       "0             -             -             -             -             -  \n",
       "1       28.4808             -             -             -             -  \n",
       "2       28.7872        1.6513             -             -             -  \n",
       "3       25.9886        1.9182        1.0463             -             -  \n",
       "4       25.9739        1.8081        1.0547        0.0322             -  \n",
       "5       17.9615        3.1502        9.1556       -0.5079       -1.9687  \n",
       "6             -             -             -             -             -  \n",
       "7             -             -             -             -             -  "
      ]
     },
     "execution_count": 17,
     "metadata": {},
     "output_type": "execute_result"
    }
   ],
   "source": [
    "info_table = [\n",
    "        [\"Polynom 1. Grades\", '%1.4f' %r_sqr_1,'%4.4f' %PolyNr1_coeff[0], '%4.4f' %PolyNr1_coeff[1],\"-\",\"-\",\"-\",\"-\",\"-\"],\n",
    "        [\"Polynom 2. Grades\",'%4.4f' %r_sqr_2, '%4.4f' %PolyNr2_coeff[0],'%4.4f' %PolyNr2_coeff[1],'%4.4f' %PolyNr2_coeff[2],\"-\",\"-\",\"-\",\"-\"],\n",
    "        [\"Polynom 3. Grades\",'%4.4f' %r_sqr_3, '%4.4f' %PolyNr3_coeff[0],'%4.4f' %PolyNr3_coeff[1],'%4.4f' %PolyNr3_coeff[2],'%4.4f' %PolyNr3_coeff[3],\"-\",\"-\",\"-\"],\n",
    "        [\"Polynom 4. Grades\",'%4.4f' %r_sqr_4, '%4.4f' %PolyNr4_coeff[0],'%4.4f' %PolyNr4_coeff[1],'%4.4f' %PolyNr4_coeff[2],'%4.4f' %PolyNr4_coeff[3],'%4.4f' %PolyNr4_coeff[4],\"-\",\"-\"],\n",
    "        [\"Polynom 5. Grades\",'%4.4f' %r_sqr_5, '%4.4f' %PolyNr5_coeff[0],'%4.4f' %PolyNr5_coeff[1],'%4.4f' %PolyNr5_coeff[2],'%4.4f' %PolyNr5_coeff[3],'%4.4f' %PolyNr5_coeff[4],'%4.4f' %PolyNr5_coeff[5],\"-\"],\n",
    "        [\"Polynom 6. Grades\",'%4.4f' %r_sqr_6,  '%4.4f' %PolyNr6_coeff[0],'%4.4f' %PolyNr6_coeff[1],'%4.4f' %PolyNr6_coeff[2],'%4.4f' %PolyNr6_coeff[3],'%4.4f' %PolyNr6_coeff[4],'%4.4f' %PolyNr6_coeff[5],'%4.4f' %PolyNr6_coeff[6]],\n",
    "        [\"Exponentialfunktion\", '%4.4f' %r_exp, '%4.4f' %coefsexp[0],'%4.4f' %coefsexp[1],\"-\",\"-\",\"-\",\"-\",\"-\"],\n",
    "        [\"Logarithmusfunktion\",'%4.4f' %r_log,  '%4.4f' %coefslog[0],'%4.4f' %coefslog[1],\"-\",\"-\",\"-\",\"-\",\"-\"],\n",
    "]\n",
    "\n",
    "info_table = pd.DataFrame(info_table, columns=[\"Type\",\"Bestimmtheistmaß\",\"Y-Achsenabschnitt\",\"1.Koeffizient\",\n",
    "                                            \"2.Koeffizient\",\"3.Koeffizient\",\"4.Koeffizient\",\n",
    "                                           \"5.Koeffizient\",\"6.Koeffizient\"])\n",
    "\n",
    "info_table"
   ]
  },
  {
   "cell_type": "code",
   "execution_count": null,
   "id": "20705c47",
   "metadata": {},
   "outputs": [],
   "source": []
  },
  {
   "cell_type": "code",
   "execution_count": null,
   "id": "5cb1a910",
   "metadata": {},
   "outputs": [],
   "source": []
  }
 ],
 "metadata": {
  "kernelspec": {
   "display_name": "Python 3 (ipykernel)",
   "language": "python",
   "name": "python3"
  },
  "language_info": {
   "codemirror_mode": {
    "name": "ipython",
    "version": 3
   },
   "file_extension": ".py",
   "mimetype": "text/x-python",
   "name": "python",
   "nbconvert_exporter": "python",
   "pygments_lexer": "ipython3",
   "version": "3.9.7"
  }
 },
 "nbformat": 4,
 "nbformat_minor": 5
}
