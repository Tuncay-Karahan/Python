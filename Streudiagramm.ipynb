{
 "cells": [
  {
   "cell_type": "code",
   "execution_count": 1,
   "id": "30a362fa",
   "metadata": {},
   "outputs": [
    {
     "data": {
      "text/html": [
       "<div>\n",
       "<style scoped>\n",
       "    .dataframe tbody tr th:only-of-type {\n",
       "        vertical-align: middle;\n",
       "    }\n",
       "\n",
       "    .dataframe tbody tr th {\n",
       "        vertical-align: top;\n",
       "    }\n",
       "\n",
       "    .dataframe thead th {\n",
       "        text-align: right;\n",
       "    }\n",
       "</style>\n",
       "<table border=\"1\" class=\"dataframe\">\n",
       "  <thead>\n",
       "    <tr style=\"text-align: right;\">\n",
       "      <th></th>\n",
       "      <th>Jahr</th>\n",
       "      <th>Maisproduktion</th>\n",
       "      <th>Unnamed: 2</th>\n",
       "      <th>Unnamed: 3</th>\n",
       "    </tr>\n",
       "  </thead>\n",
       "  <tbody>\n",
       "    <tr>\n",
       "      <th>0</th>\n",
       "      <td>1960</td>\n",
       "      <td>220</td>\n",
       "      <td>NaN</td>\n",
       "      <td>NaN</td>\n",
       "    </tr>\n",
       "    <tr>\n",
       "      <th>1</th>\n",
       "      <td>1970</td>\n",
       "      <td>300</td>\n",
       "      <td>NaN</td>\n",
       "      <td>NaN</td>\n",
       "    </tr>\n",
       "    <tr>\n",
       "      <th>2</th>\n",
       "      <td>1980</td>\n",
       "      <td>420</td>\n",
       "      <td>NaN</td>\n",
       "      <td>NaN</td>\n",
       "    </tr>\n",
       "    <tr>\n",
       "      <th>3</th>\n",
       "      <td>1990</td>\n",
       "      <td>520</td>\n",
       "      <td>NaN</td>\n",
       "      <td>NaN</td>\n",
       "    </tr>\n",
       "    <tr>\n",
       "      <th>4</th>\n",
       "      <td>2000</td>\n",
       "      <td>590</td>\n",
       "      <td>NaN</td>\n",
       "      <td>NaN</td>\n",
       "    </tr>\n",
       "    <tr>\n",
       "      <th>5</th>\n",
       "      <td>2001</td>\n",
       "      <td>614</td>\n",
       "      <td>NaN</td>\n",
       "      <td>NaN</td>\n",
       "    </tr>\n",
       "    <tr>\n",
       "      <th>6</th>\n",
       "      <td>2002</td>\n",
       "      <td>602</td>\n",
       "      <td>NaN</td>\n",
       "      <td>NaN</td>\n",
       "    </tr>\n",
       "    <tr>\n",
       "      <th>7</th>\n",
       "      <td>2003</td>\n",
       "      <td>640</td>\n",
       "      <td>NaN</td>\n",
       "      <td>NaN</td>\n",
       "    </tr>\n",
       "    <tr>\n",
       "      <th>8</th>\n",
       "      <td>2004</td>\n",
       "      <td>705</td>\n",
       "      <td>NaN</td>\n",
       "      <td>NaN</td>\n",
       "    </tr>\n",
       "  </tbody>\n",
       "</table>\n",
       "</div>"
      ],
      "text/plain": [
       "   Jahr  Maisproduktion  Unnamed: 2  Unnamed: 3\n",
       "0  1960             220         NaN         NaN\n",
       "1  1970             300         NaN         NaN\n",
       "2  1980             420         NaN         NaN\n",
       "3  1990             520         NaN         NaN\n",
       "4  2000             590         NaN         NaN\n",
       "5  2001             614         NaN         NaN\n",
       "6  2002             602         NaN         NaN\n",
       "7  2003             640         NaN         NaN\n",
       "8  2004             705         NaN         NaN"
      ]
     },
     "execution_count": 1,
     "metadata": {},
     "output_type": "execute_result"
    }
   ],
   "source": [
    "import pandas\n",
    "mais_daten=pandas.read_csv('Maisproduktion.txt',\n",
    "sep=\"\\t\",\n",
    "decimal=',')\n",
    "mais_daten"
   ]
  },
  {
   "cell_type": "code",
   "execution_count": 2,
   "id": "a917dc2b",
   "metadata": {},
   "outputs": [
    {
     "data": {
      "text/html": [
       "<div>\n",
       "<style scoped>\n",
       "    .dataframe tbody tr th:only-of-type {\n",
       "        vertical-align: middle;\n",
       "    }\n",
       "\n",
       "    .dataframe tbody tr th {\n",
       "        vertical-align: top;\n",
       "    }\n",
       "\n",
       "    .dataframe thead th {\n",
       "        text-align: right;\n",
       "    }\n",
       "</style>\n",
       "<table border=\"1\" class=\"dataframe\">\n",
       "  <thead>\n",
       "    <tr style=\"text-align: right;\">\n",
       "      <th></th>\n",
       "      <th>Jahr</th>\n",
       "      <th>Maisproduktion</th>\n",
       "    </tr>\n",
       "  </thead>\n",
       "  <tbody>\n",
       "    <tr>\n",
       "      <th>0</th>\n",
       "      <td>1960</td>\n",
       "      <td>220</td>\n",
       "    </tr>\n",
       "    <tr>\n",
       "      <th>1</th>\n",
       "      <td>1970</td>\n",
       "      <td>300</td>\n",
       "    </tr>\n",
       "    <tr>\n",
       "      <th>2</th>\n",
       "      <td>1980</td>\n",
       "      <td>420</td>\n",
       "    </tr>\n",
       "    <tr>\n",
       "      <th>3</th>\n",
       "      <td>1990</td>\n",
       "      <td>520</td>\n",
       "    </tr>\n",
       "    <tr>\n",
       "      <th>4</th>\n",
       "      <td>2000</td>\n",
       "      <td>590</td>\n",
       "    </tr>\n",
       "    <tr>\n",
       "      <th>5</th>\n",
       "      <td>2001</td>\n",
       "      <td>614</td>\n",
       "    </tr>\n",
       "    <tr>\n",
       "      <th>6</th>\n",
       "      <td>2002</td>\n",
       "      <td>602</td>\n",
       "    </tr>\n",
       "    <tr>\n",
       "      <th>7</th>\n",
       "      <td>2003</td>\n",
       "      <td>640</td>\n",
       "    </tr>\n",
       "    <tr>\n",
       "      <th>8</th>\n",
       "      <td>2004</td>\n",
       "      <td>705</td>\n",
       "    </tr>\n",
       "  </tbody>\n",
       "</table>\n",
       "</div>"
      ],
      "text/plain": [
       "   Jahr  Maisproduktion\n",
       "0  1960             220\n",
       "1  1970             300\n",
       "2  1980             420\n",
       "3  1990             520\n",
       "4  2000             590\n",
       "5  2001             614\n",
       "6  2002             602\n",
       "7  2003             640\n",
       "8  2004             705"
      ]
     },
     "execution_count": 2,
     "metadata": {},
     "output_type": "execute_result"
    }
   ],
   "source": [
    "del mais_daten ['Unnamed: 2']\n",
    "del mais_daten ['Unnamed: 3']\n",
    "mais_daten"
   ]
  },
  {
   "cell_type": "code",
   "execution_count": 3,
   "id": "7d79405e",
   "metadata": {},
   "outputs": [
    {
     "data": {
      "text/html": [
       "<div>\n",
       "<style scoped>\n",
       "    .dataframe tbody tr th:only-of-type {\n",
       "        vertical-align: middle;\n",
       "    }\n",
       "\n",
       "    .dataframe tbody tr th {\n",
       "        vertical-align: top;\n",
       "    }\n",
       "\n",
       "    .dataframe thead th {\n",
       "        text-align: right;\n",
       "    }\n",
       "</style>\n",
       "<table border=\"1\" class=\"dataframe\">\n",
       "  <thead>\n",
       "    <tr style=\"text-align: right;\">\n",
       "      <th></th>\n",
       "      <th>Jahr</th>\n",
       "      <th>Maisproduktion</th>\n",
       "    </tr>\n",
       "  </thead>\n",
       "  <tbody>\n",
       "    <tr>\n",
       "      <th>0</th>\n",
       "      <td>1960</td>\n",
       "      <td>220</td>\n",
       "    </tr>\n",
       "    <tr>\n",
       "      <th>1</th>\n",
       "      <td>1970</td>\n",
       "      <td>300</td>\n",
       "    </tr>\n",
       "    <tr>\n",
       "      <th>2</th>\n",
       "      <td>1980</td>\n",
       "      <td>420</td>\n",
       "    </tr>\n",
       "    <tr>\n",
       "      <th>3</th>\n",
       "      <td>1990</td>\n",
       "      <td>520</td>\n",
       "    </tr>\n",
       "    <tr>\n",
       "      <th>4</th>\n",
       "      <td>2000</td>\n",
       "      <td>590</td>\n",
       "    </tr>\n",
       "    <tr>\n",
       "      <th>5</th>\n",
       "      <td>2001</td>\n",
       "      <td>614</td>\n",
       "    </tr>\n",
       "    <tr>\n",
       "      <th>6</th>\n",
       "      <td>2002</td>\n",
       "      <td>602</td>\n",
       "    </tr>\n",
       "    <tr>\n",
       "      <th>7</th>\n",
       "      <td>2003</td>\n",
       "      <td>640</td>\n",
       "    </tr>\n",
       "    <tr>\n",
       "      <th>8</th>\n",
       "      <td>2004</td>\n",
       "      <td>705</td>\n",
       "    </tr>\n",
       "  </tbody>\n",
       "</table>\n",
       "</div>"
      ],
      "text/plain": [
       "   Jahr  Maisproduktion\n",
       "0  1960             220\n",
       "1  1970             300\n",
       "2  1980             420\n",
       "3  1990             520\n",
       "4  2000             590\n",
       "5  2001             614\n",
       "6  2002             602\n",
       "7  2003             640\n",
       "8  2004             705"
      ]
     },
     "execution_count": 3,
     "metadata": {},
     "output_type": "execute_result"
    }
   ],
   "source": [
    "mais_daten['Jahr']=mais_daten['Jahr'].astype(int)\n",
    "mais_daten"
   ]
  },
  {
   "cell_type": "code",
   "execution_count": 20,
   "id": "1a0e3929",
   "metadata": {},
   "outputs": [
    {
     "data": {
      "text/plain": [
       "Text(0.5, 1.0, 'Streudiagramm zur Welrproduktion von Mais')"
      ]
     },
     "execution_count": 20,
     "metadata": {},
     "output_type": "execute_result"
    },
    {
     "data": {
      "image/png": "[encoded data removed]",
      "text/plain": [
       "<Figure size 432x288 with 1 Axes>"
      ]
     },
     "metadata": {
      "needs_background": "light"
     },
     "output_type": "display_data"
    }
   ],
   "source": [
    "import matplotlib.pyplot as plt #matplotlib.pyplot ist bibliothek und \"as plt\" um es abzukürzen\n",
    "%config inlineBackend.figure_format='svg' #damit die grafik bessere kanten hat\n",
    "plt.scatter(mais_daten['Jahr'], mais_daten['Maisproduktion'],marker='o', color='darkblue')\n",
    "plt.xlabel('Jahr')\n",
    "plt.ylabel('Millionen Tonnen')\n",
    "plt.title('Streudiagramm zur Welrproduktion von Mais')"
   ]
  },
  {
   "cell_type": "code",
   "execution_count": 5,
   "id": "9b0a42f6",
   "metadata": {},
   "outputs": [],
   "source": [
    "import numpy as np\n",
    "from sklearn.linear_model import LinearRegression"
   ]
  },
  {
   "cell_type": "markdown",
   "id": "9714d3fa",
   "metadata": {},
   "source": [
    "Berechnungen werden in Python meist mit der Bibliothek NumPy gemacht.\n",
    "Es wird zunächst eine Hülle für das Modell angelegt."
   ]
  },
  {
   "cell_type": "code",
   "execution_count": 6,
   "id": "b44b8e0b",
   "metadata": {},
   "outputs": [],
   "source": [
    "mais_model=LinearRegression()"
   ]
  },
  {
   "cell_type": "markdown",
   "id": "890f80b2",
   "metadata": {},
   "source": [
    "Anschließend werden die beiden Spalten in ein NumPy Array konvertiert, weil nur damit gewisse Funktionen für die Regression möglich sind."
   ]
  },
  {
   "cell_type": "code",
   "execution_count": 7,
   "id": "1b295612",
   "metadata": {},
   "outputs": [],
   "source": [
    "x=mais_daten['Jahr']\n",
    "x=x.to_numpy() #konvertiert die spalte Jahr in ein NumPy Array\n",
    "x=x.reshape(-1,1)"
   ]
  },
  {
   "cell_type": "markdown",
   "id": "ee68d32a",
   "metadata": {},
   "source": [
    "Die methode reshape() verwandelt den ursprüunglichen Vektro x in eine 1 x n-matrix. Nur so können die Regressionskoeffizienten berechnet werden."
   ]
  },
  {
   "cell_type": "code",
   "execution_count": 8,
   "id": "0f986ed7",
   "metadata": {},
   "outputs": [
    {
     "data": {
      "text/plain": [
       "LinearRegression()"
      ]
     },
     "execution_count": 8,
     "metadata": {},
     "output_type": "execute_result"
    }
   ],
   "source": [
    "mais_model.fit(x, mais_daten['Maisproduktion'])"
   ]
  },
  {
   "cell_type": "markdown",
   "id": "5f799197",
   "metadata": {},
   "source": [
    "Um die Koefffizienten der linearen Regression zu erhlaten wird auf die Attribute der fit()-Funktion zurückgegriffen. Sie befinden sich in den Variablen intercept_ und coef_. Für die Ausgabe mti print() verwenden wir den String-Modulo Operator."
   ]
  },
  {
   "cell_type": "code",
   "execution_count": 9,
   "id": "e08f93b2",
   "metadata": {},
   "outputs": [
    {
     "name": "stdout",
     "output_type": "stream",
     "text": [
      "Die Gleichung der Regressionsgeraden lautet: y= 9.9850 x= -19357.7700\n"
     ]
    }
   ],
   "source": [
    "print('Die Gleichung der Regressionsgeraden lautet: y= %4.4f x= %4.4f'\n",
    "    %(mais_model.coef_, mais_model.intercept_))"
   ]
  },
  {
   "cell_type": "markdown",
   "id": "1036db76",
   "metadata": {},
   "source": [
    "Um auf das R² zu zugreifen, wird mais_model.intercept_))"
   ]
  },
  {
   "cell_type": "code",
   "execution_count": 10,
   "id": "e6dd1caf",
   "metadata": {},
   "outputs": [
    {
     "name": "stdout",
     "output_type": "stream",
     "text": [
      "Das Bestimmtheitsmaß lautet: 0.9788\n"
     ]
    }
   ],
   "source": [
    "R_2=mais_model.score(x,mais_daten['Maisproduktion'])\n",
    "print('Das Bestimmtheitsmaß lautet: %1.4f' % R_2)"
   ]
  },
  {
   "cell_type": "markdown",
   "id": "d472dffd",
   "metadata": {},
   "source": [
    "Zeichnen wir nun die Regressionsgerade in das Streudiageramm ein. Dazu verwenden wir den Befehl predict(), der die Werte der Regressionsgerade basierend auf den vorgegebenen x-Wert ausgibt."
   ]
  },
  {
   "cell_type": "code",
   "execution_count": 30,
   "id": "828612dd",
   "metadata": {},
   "outputs": [
    {
     "data": {
      "text/plain": [
       "[<matplotlib.lines.Line2D at 0x1e7c97164f0>]"
      ]
     },
     "execution_count": 30,
     "metadata": {},
     "output_type": "execute_result"
    },
    {
     "data": {
      "image/png": "[encoded data removed]",
      "text/plain": [
       "<Figure size 432x288 with 1 Axes>"
      ]
     },
     "metadata": {
      "needs_background": "light"
     },
     "output_type": "display_data"
    }
   ],
   "source": [
    "plt.scatter(mais_daten['Jahr'], mais_daten['Maisproduktion'],marker='o',color='darkblue')\n",
    "plt.xlabel('Jahr')\n",
    "plt.ylabel('Millionen Tonnen')\n",
    "plt.title('Streudiagramm zur Welrproduktion von Mais')\n",
    "mais_predict=mais_model.predict(x)\n",
    "plt.plot(x,mais_predict,color='lightblue',linewidth=3)"
   ]
  },
  {
   "cell_type": "markdown",
   "id": "7161b58f",
   "metadata": {},
   "source": [
    "Berechnung des empirischen Korrelationskoeffizienten"
   ]
  },
  {
   "cell_type": "code",
   "execution_count": 12,
   "id": "7801ff6c",
   "metadata": {},
   "outputs": [
    {
     "data": {
      "text/plain": [
       "array([[1.        , 0.98935241],\n",
       "       [0.98935241, 1.        ]])"
      ]
     },
     "execution_count": 12,
     "metadata": {},
     "output_type": "execute_result"
    }
   ],
   "source": [
    "np.corrcoef(mais_daten['Jahr'], mais_daten['Maisproduktion'])"
   ]
  },
  {
   "cell_type": "code",
   "execution_count": 13,
   "id": "517e56aa",
   "metadata": {},
   "outputs": [
    {
     "name": "stdout",
     "output_type": "stream",
     "text": [
      "Der Korrelationskoeffizient lautet: 0.9894\n"
     ]
    }
   ],
   "source": [
    "print('Der Korrelationskoeffizient lautet: %1.4f'\n",
    "     %np.corrcoef(mais_daten['Jahr'], mais_daten['Maisproduktion']) [1,0])"
   ]
  },
  {
   "cell_type": "markdown",
   "id": "f3f13bee",
   "metadata": {},
   "source": [
    "Andere Regressionskurven ausprobieren.\n",
    "e) Ändern Sie den Typ der Regressionskurve von linear in quadratisch\n",
    "\n",
    "um die Regressionskurve von linear in quadratisch umzuändern, wird die Scikit-learn funktion PolynomialFeatures() verwendet. Sie wandelt Daten in ihre Potenzen um. Dabei handelt es sich um ein Art Preprocessing der Daten."
   ]
  },
  {
   "cell_type": "code",
   "execution_count": 37,
   "id": "75c3f2ce",
   "metadata": {},
   "outputs": [
    {
     "data": {
      "text/plain": [
       "array([[-1.95008126,  3.8028169 ],\n",
       "       [-1.30005417,  1.69014085],\n",
       "       [-0.65002709,  0.42253521],\n",
       "       [ 0.        ,  0.        ],\n",
       "       [ 0.65002709,  0.42253521],\n",
       "       [ 0.71502979,  0.51126761],\n",
       "       [ 0.7800325 ,  0.6084507 ],\n",
       "       [ 0.84503521,  0.71408451],\n",
       "       [ 0.91003792,  0.82816901]])"
      ]
     },
     "execution_count": 37,
     "metadata": {},
     "output_type": "execute_result"
    }
   ],
   "source": [
    "from sklearn.preprocessing import PolynomialFeatures\n",
    "from sklearn.preprocessing import StandardScaler\n",
    "#scaler = StandardScaler()\n",
    "x_scaled = StandardScaler().fit_transform(x)\n",
    "quad_jahr=PolynomialFeatures(degree=2, include_bias=False).fit_transform(x_scaled)\n",
    "quad_jahr"
   ]
  },
  {
   "cell_type": "code",
   "execution_count": 38,
   "id": "08743d2e",
   "metadata": {},
   "outputs": [
    {
     "data": {
      "text/plain": [
       "array([[-1.95008126],\n",
       "       [-1.30005417],\n",
       "       [-0.65002709],\n",
       "       [ 0.        ],\n",
       "       [ 0.65002709],\n",
       "       [ 0.71502979],\n",
       "       [ 0.7800325 ],\n",
       "       [ 0.84503521],\n",
       "       [ 0.91003792]])"
      ]
     },
     "execution_count": 38,
     "metadata": {},
     "output_type": "execute_result"
    }
   ],
   "source": [
    "x_scaled"
   ]
  },
  {
   "cell_type": "code",
   "execution_count": 39,
   "id": "b9667f72",
   "metadata": {},
   "outputs": [
    {
     "name": "stdout",
     "output_type": "stream",
     "text": [
      "Das Bestimmtheitsmaß lautet: 0.9792\n"
     ]
    },
    {
     "data": {
      "image/png": "[encoded data removed]",
      "text/plain": [
       "<Figure size 432x288 with 1 Axes>"
      ]
     },
     "metadata": {
      "needs_background": "light"
     },
     "output_type": "display_data"
    }
   ],
   "source": [
    "quad_mais_model = LinearRegression()\n",
    "quad_mais_model.fit(quad_jahr, mais_daten['Maisproduktion'])\n",
    "\n",
    "    #predicting on quadratic plynomial\n",
    "quad_mais_predict = quad_mais_model.predict(quad_jahr)\n",
    "plt.scatter(mais_daten['Jahr'], mais_daten['Maisproduktion'],marker='o')\n",
    "plt.xlabel('Jahr')\n",
    "plt.ylabel('Millionen Tonnen')\n",
    "plt.title('Streudiagramm zur Welrproduktion von Mais')\n",
    "plt.plot(x,quad_mais_predict,color='purple',linewidth=3)\n",
    "\n",
    "r_sqr=quad_mais_model.score(quad_jahr,mais_daten['Maisproduktion'])\n",
    "print('Das Bestimmtheitsmaß lautet: %1.4f' %r_sqr)"
   ]
  },
  {
   "cell_type": "code",
   "execution_count": null,
   "id": "8291dc8d",
   "metadata": {},
   "outputs": [],
   "source": []
  }
 ],
 "metadata": {
  "kernelspec": {
   "display_name": "Python 3 (ipykernel)",
   "language": "python",
   "name": "python3"
  },
  "language_info": {
   "codemirror_mode": {
    "name": "ipython",
    "version": 3
   },
   "file_extension": ".py",
   "mimetype": "text/x-python",
   "name": "python",
   "nbconvert_exporter": "python",
   "pygments_lexer": "ipython3",
   "version": "3.9.7"
  }
 },
 "nbformat": 4,
 "nbformat_minor": 5
}
