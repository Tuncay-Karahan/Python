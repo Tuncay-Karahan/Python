{
 "cells": [
  {
   "cell_type": "code",
   "execution_count": 1,
   "id": "c105f0e0",
   "metadata": {},
   "outputs": [],
   "source": [
    "import pandas\n",
    "import matplotlib.pyplot as plt\n",
    "import math\n",
    "import numpy as np\n",
    "from scipy.stats import hypergeom\n",
    "from scipy.stats import binom\n",
    "from scipy import stats as st\n",
    "import scipy.special\n"
   ]
  },
  {
   "cell_type": "markdown",
   "id": "1384d83b",
   "metadata": {},
   "source": [
    " **Aufgabe 3 a)**"
   ]
  },
  {
   "cell_type": "markdown",
   "id": "c2470026",
   "metadata": {},
   "source": [
    "**KENO-Gewinnquote bei 10 getippten Zahlen**"
   ]
  },
  {
   "cell_type": "code",
   "execution_count": 2,
   "id": "3b09994c",
   "metadata": {},
   "outputs": [],
   "source": [
    "einsatz = 2\n",
    "exp_val = 0\n",
    "std_var = 0\n",
    "var = 0\n",
    "\n",
    "rv_10 = st.hypergeom(70, 20, 10)\n",
    "x_10 = (10, 9, 8, 7, 6, 5, 4, 3, 2, 1, 0)\n",
    "profit_10 = (100000, 1000, 100, 15, 5, 2, 0, 0, 0, 0, 2)\n",
    "#profit_10 = (199998, 1998, 198, 28, 8, 2,-2, -2, -2, -2, 2)\n",
    "\n",
    "for i, x in enumerate(x_10):\n",
    "    exp_val += (((profit_10[i]) * einsatz - 2)* rv_10.pmf(x))\n",
    "    \n",
    "for i, x in enumerate(x_10):\n",
    "    var += (rv_10.pmf(x) * ((einsatz*profit_10[i] -2)-exp_val)**2)\n",
    "    \n",
    "std_var = math.sqrt(var)"
   ]
  },
  {
   "cell_type": "code",
   "execution_count": 3,
   "id": "bdbef29f",
   "metadata": {
    "scrolled": true
   },
   "outputs": [
    {
     "name": "stdout",
     "output_type": "stream",
     "text": [
      "X10:\n",
      "Erwartungswert: -1.012005\n",
      "Varianz: 18735.7766\n",
      "Standardabweichung: 136.8787\n"
     ]
    }
   ],
   "source": [
    "print(\"X10:\")\n",
    "print(f\"Erwartungswert: {exp_val:.6f}\")\n",
    "print(f\"Varianz: {var:.4f}\")\n",
    "print(f\"Standardabweichung: {std_var:.4f}\")"
   ]
  },
  {
   "cell_type": "markdown",
   "id": "bd36e1a4",
   "metadata": {},
   "source": [
    "**Aufgabe 3 b)**"
   ]
  },
  {
   "cell_type": "markdown",
   "id": "1f464c26",
   "metadata": {},
   "source": [
    "**KENO-Gewinnquote bei 9 getippten Zahlen**"
   ]
  },
  {
   "cell_type": "code",
   "execution_count": 4,
   "id": "2a1709da",
   "metadata": {},
   "outputs": [],
   "source": [
    "exp_val = 0\n",
    "std_var = 0\n",
    "var = 0\n",
    "\n",
    "rv_9 = st.hypergeom(70, 9, 20)\n",
    "x_9 = (9, 8, 7, 6, 5, 4, 3, 2, 1, 0)\n",
    "profit_9 = (50000, 1000, 20, 5, 2, 0, 0, 0, 0, 2)\n",
    "\n",
    "for i, x in enumerate(x_9):\n",
    "    exp_val += (((profit_9[i]) * einsatz - 2)* rv_9.pmf(x))\n",
    "    \n",
    "for i, x in enumerate(x_9):\n",
    "    var += (rv_9.pmf(x) * ((einsatz*profit_9[i] -2)-exp_val)**2)\n",
    "    \n",
    "std_var = math.sqrt(var)"
   ]
  },
  {
   "cell_type": "code",
   "execution_count": 5,
   "id": "e5fbe081",
   "metadata": {},
   "outputs": [
    {
     "name": "stdout",
     "output_type": "stream",
     "text": [
      "X9:\n",
      "Erwartungswert:-0.999094\n",
      "Varianz: 26218.0757\n",
      "Standardabweichung: 161.9200\n"
     ]
    }
   ],
   "source": [
    "print(\"X9:\")\n",
    "print(f\"Erwartungswert:{exp_val:.6f}\")\n",
    "print(f\"Varianz: {var:.4f}\")\n",
    "print(f\"Standardabweichung: {std_var:.4f}\")"
   ]
  },
  {
   "cell_type": "markdown",
   "id": "97327da1",
   "metadata": {},
   "source": [
    "**KENO-Gewinnquote bei 8 getippten Zahlen**"
   ]
  },
  {
   "cell_type": "code",
   "execution_count": 6,
   "id": "a52abaf4",
   "metadata": {},
   "outputs": [],
   "source": [
    "exp_val = 0\n",
    "std_var = 0\n",
    "var = 0\n",
    "\n",
    "rv_8 = st.hypergeom(70, 20, 8)\n",
    "x_8 = (8, 7, 6, 5, 4, 3, 2, 1, 0)\n",
    "profit_8 = (10000, 100, 15, 2, 1, 0, 0, 0, 1)\n",
    "\n",
    "for i, x in enumerate(x_8):\n",
    "    exp_val += (((profit_8[i]) * einsatz - 2)* rv_8.pmf(x))\n",
    "    \n",
    "for i, x in enumerate(x_8):\n",
    "    var += (rv_8.pmf(x) * ((einsatz*profit_8[i] -2)-exp_val)**2)\n",
    "\n",
    "std_var = math.sqrt(var)"
   ]
  },
  {
   "cell_type": "code",
   "execution_count": 7,
   "id": "b1880623",
   "metadata": {},
   "outputs": [
    {
     "name": "stdout",
     "output_type": "stream",
     "text": [
      "X8:\n",
      "Erwartungswert:-1.021233\n",
      "Varianz: 5358.7205\n",
      "Standardabweichung: 73.2033\n"
     ]
    }
   ],
   "source": [
    "print(\"X8:\")\n",
    "print(f\"Erwartungswert:{exp_val:.6f}\")\n",
    "print(f\"Varianz: {var:.4f}\")\n",
    "print(f\"Standardabweichung: {std_var:.4f}\")"
   ]
  },
  {
   "cell_type": "markdown",
   "id": "3960ce83",
   "metadata": {},
   "source": [
    "**KENO-Gewinnquote bei 7 getippten Zahlen**"
   ]
  },
  {
   "cell_type": "code",
   "execution_count": 8,
   "id": "17cd9ca4",
   "metadata": {},
   "outputs": [],
   "source": [
    "exp_val = 0\n",
    "std_var = 0\n",
    "var = 0\n",
    "\n",
    "rv_7 = st.hypergeom(70, 20, 7)\n",
    "x_7 = (7, 6, 5, 4, 3, 2, 1, 0)\n",
    "profit_7 = (1000, 100, 12, 1, 0, 0, 0, 0)\n",
    "\n",
    "for i, x in enumerate(x_7):\n",
    "    exp_val += (((profit_7[i]) * einsatz - 2)* rv_7.pmf(x))\n",
    "    \n",
    "for i, x in enumerate(x_7):\n",
    "    var += (rv_7.pmf(x) * ((einsatz*profit_7[i] -2)-exp_val)**2)\n",
    "\n",
    "std_var = math.sqrt(var)"
   ]
  },
  {
   "cell_type": "code",
   "execution_count": 9,
   "id": "00eee9fe",
   "metadata": {},
   "outputs": [
    {
     "name": "stdout",
     "output_type": "stream",
     "text": [
      "X7:\n",
      "Erwartungswert:-1.008670\n",
      "Varianz: 331.7899\n",
      "Standardabweichung: 18.2151\n"
     ]
    }
   ],
   "source": [
    "print(\"X7:\")\n",
    "print(f\"Erwartungswert:{exp_val:.6f}\")\n",
    "print(f\"Varianz: {var:.4f}\")\n",
    "print(f\"Standardabweichung: {std_var:.4f}\")"
   ]
  },
  {
   "cell_type": "markdown",
   "id": "bdf88efa",
   "metadata": {},
   "source": [
    "**KENO-Gewinnquote bei 6 getippten Zahlen**"
   ]
  },
  {
   "cell_type": "code",
   "execution_count": 10,
   "id": "1a5d0430",
   "metadata": {},
   "outputs": [],
   "source": [
    "exp_val = 0\n",
    "std_var = 0\n",
    "var = 0\n",
    "\n",
    "rv_6 = st.hypergeom(70, 20, 6)\n",
    "x_6 = (6, 5, 4, 3, 2, 1, 0)\n",
    "profit_6 = (500, 15, 2, 1, 0, 0, 0, 0)\n",
    "\n",
    "for i, x in enumerate(x_6):\n",
    "    exp_val += (((profit_6[i]) * einsatz - 2)* rv_6.pmf(x))\n",
    "    \n",
    "for i, x in enumerate(x_6):\n",
    "    var += (rv_6.pmf(x) * ((einsatz*profit_6[i] -2)-exp_val)**2)\n",
    "\n",
    "std_var = math.sqrt(var)"
   ]
  },
  {
   "cell_type": "code",
   "execution_count": 11,
   "id": "1950c8c9",
   "metadata": {},
   "outputs": [
    {
     "name": "stdout",
     "output_type": "stream",
     "text": [
      "X6:\n",
      "Erwartungswert:-1.005121\n",
      "Varianz: 301.3534\n",
      "Standardabweichung: 17.3595\n"
     ]
    }
   ],
   "source": [
    "print(\"X6:\")\n",
    "print(f\"Erwartungswert:{exp_val:.6f}\")\n",
    "print(f\"Varianz: {var:.4f}\")\n",
    "print(f\"Standardabweichung: {std_var:.4f}\")"
   ]
  },
  {
   "cell_type": "markdown",
   "id": "d75b9bab",
   "metadata": {},
   "source": [
    "**KENO-Gewinnquote bei 5 getippten Zahlen**"
   ]
  },
  {
   "cell_type": "code",
   "execution_count": 12,
   "id": "2f85bbd7",
   "metadata": {},
   "outputs": [],
   "source": [
    "exp_val = 0\n",
    "std_var = 0\n",
    "var = 0\n",
    "\n",
    "rv_5 = st.hypergeom(70, 20, 5)\n",
    "x_5 = (5, 4, 3, 2, 1, 0)\n",
    "profit_5 = (100, 7, 2, 0, 0, 0)\n",
    "\n",
    "for i, x in enumerate(x_5):\n",
    "    exp_val += (((profit_5[i]) * einsatz - 2)* rv_5.pmf(x))\n",
    "    \n",
    "for i, x in enumerate(x_5):\n",
    "    var += (rv_5.pmf(x) * ((einsatz*profit_5[i] -2)-exp_val)**2)\n",
    "\n",
    "std_var = math.sqrt(var)"
   ]
  },
  {
   "cell_type": "code",
   "execution_count": 13,
   "id": "67c15947",
   "metadata": {},
   "outputs": [
    {
     "name": "stdout",
     "output_type": "stream",
     "text": [
      "X5:\n",
      "Erwartungswert:-1.002042\n",
      "Varianz: 56.0134\n",
      "Standardabweichung: 7.4842\n"
     ]
    }
   ],
   "source": [
    "print(\"X5:\")\n",
    "print(f\"Erwartungswert:{exp_val:.6f}\")\n",
    "print(f\"Varianz: {var:.4f}\")\n",
    "print(f\"Standardabweichung: {std_var:.4f}\")"
   ]
  },
  {
   "cell_type": "markdown",
   "id": "a9916ec2",
   "metadata": {},
   "source": [
    "**KENO-Gewinnquote bei 4 getippten Zahlen**"
   ]
  },
  {
   "cell_type": "code",
   "execution_count": 14,
   "id": "e9dd7169",
   "metadata": {},
   "outputs": [],
   "source": [
    "exp_val = 0\n",
    "std_var = 0\n",
    "var = 0\n",
    "\n",
    "rv_4 = st.hypergeom(70, 20, 4)\n",
    "x_4 = (4, 3, 2, 1, 0)\n",
    "profit_4 = (22, 2, 1, 0, 0)\n",
    "\n",
    "for i, x in enumerate(x_4):\n",
    "    exp_val += (((profit_4[i]) * einsatz - 2)* rv_4.pmf(x))\n",
    "    \n",
    "for i, x in enumerate(x_4):\n",
    "    var += (rv_4.pmf(x) * ((einsatz*profit_4[i] -2)-exp_val)**2)\n",
    "\n",
    "std_var = math.sqrt(var)"
   ]
  },
  {
   "cell_type": "code",
   "execution_count": 15,
   "id": "6da6e3b7",
   "metadata": {},
   "outputs": [
    {
     "name": "stdout",
     "output_type": "stream",
     "text": [
      "X4:\n",
      "Erwartungswert:-1.011141\n",
      "Varianz: 11.2623\n",
      "Standardabweichung: 3.3559\n"
     ]
    }
   ],
   "source": [
    "print(\"X4:\")\n",
    "print(f\"Erwartungswert:{exp_val:.6f}\")\n",
    "print(f\"Varianz: {var:.4f}\")\n",
    "print(f\"Standardabweichung: {std_var:.4f}\")"
   ]
  },
  {
   "cell_type": "markdown",
   "id": "4986f596",
   "metadata": {},
   "source": [
    "**KENO-Gewinnquote bei 3 getippten Zahlen**"
   ]
  },
  {
   "cell_type": "code",
   "execution_count": 16,
   "id": "73fc9b47",
   "metadata": {},
   "outputs": [],
   "source": [
    "exp_val = 0\n",
    "std_var = 0\n",
    "var = 0\n",
    "\n",
    "rv_3 = st.hypergeom(70, 20, 3)\n",
    "x_3 = (3, 2, 1, 0)\n",
    "profit_3 = (16, 1, 0, 0)\n",
    "\n",
    "for i, x in enumerate(x_3):\n",
    "    exp_val += (((profit_3[i]) * einsatz - 2)* rv_3.pmf(x))\n",
    "    \n",
    "for i, x in enumerate(x_3):\n",
    "    var += (rv_3.pmf(x) * ((einsatz*profit_3[i] -2)-exp_val)**2)\n",
    "\n",
    "std_var = math.sqrt(var)"
   ]
  },
  {
   "cell_type": "code",
   "execution_count": 17,
   "id": "4c901961",
   "metadata": {},
   "outputs": [
    {
     "name": "stdout",
     "output_type": "stream",
     "text": [
      "X3:\n",
      "Erwartungswert:-0.986482\n",
      "Varianz: 20.9925\n",
      "Standardabweichung: 4.5818\n"
     ]
    }
   ],
   "source": [
    "print(\"X3:\")\n",
    "print(f\"Erwartungswert:{exp_val:.6f}\")\n",
    "print(f\"Varianz: {var:.4f}\")\n",
    "print(f\"Standardabweichung: {std_var:.4f}\")"
   ]
  },
  {
   "cell_type": "markdown",
   "id": "a1959e8e",
   "metadata": {},
   "source": [
    "**KENO-Gewinnquote bei 2 getippten Zahlen**"
   ]
  },
  {
   "cell_type": "code",
   "execution_count": 18,
   "id": "54eff716",
   "metadata": {},
   "outputs": [],
   "source": [
    "exp_val = 0\n",
    "std_var = 0\n",
    "var = 0\n",
    "\n",
    "rv_2 = st.hypergeom(70, 20, 2)\n",
    "x_2 = (2, 1, 0)\n",
    "profit_2 = (6, 0, 0)\n",
    "\n",
    "for i, x in enumerate(x_2):\n",
    "    exp_val += (((profit_2[i]) * einsatz - 2)* rv_2.pmf(x))\n",
    "    \n",
    "for i, x in enumerate(x_2):\n",
    "    var += (rv_2.pmf(x) * ((einsatz*profit_2[i] -2)-exp_val)**2)\n",
    "\n",
    "std_var = math.sqrt(var)"
   ]
  },
  {
   "cell_type": "code",
   "execution_count": 19,
   "id": "8dab69de",
   "metadata": {},
   "outputs": [
    {
     "name": "stdout",
     "output_type": "stream",
     "text": [
      "X2:\n",
      "Erwartungswert: -1.055901\n",
      "Varianz 10.4379\n",
      "Standardabweichung: 3.2308\n"
     ]
    }
   ],
   "source": [
    "print(\"X2:\")\n",
    "print(f\"Erwartungswert: {exp_val:.6f}\")\n",
    "print(f\"Varianz {var:.4f}\")\n",
    "print(f\"Standardabweichung: {std_var:.4f}\")"
   ]
  },
  {
   "cell_type": "markdown",
   "id": "5569b519",
   "metadata": {},
   "source": [
    "**Aufgabe 3 c)**"
   ]
  },
  {
   "cell_type": "markdown",
   "id": "7b16fee3",
   "metadata": {},
   "source": [
    "Die Bank gewinnt immer!\n",
    "Der Spieler ist immer im nachteil und wird langfristig immer öfter Verlust erziehlen als gewinn, da der Erwartungswert immer unter 0 ist.\n",
    "Aber mit 3 Kästchen hat der Spieler bei Keno3 die höchste Chance zu gewinnen mit einem Erwartungswert von -0.986482."
   ]
  },
  {
   "cell_type": "markdown",
   "id": "0a54d6cd",
   "metadata": {},
   "source": [
    "**Aufgabe 3 d)**"
   ]
  },
  {
   "cell_type": "code",
   "execution_count": 20,
   "id": "497ebcb8",
   "metadata": {},
   "outputs": [
    {
     "name": "stdout",
     "output_type": "stream",
     "text": [
      "Wahrscheinlichkeit: p = 0.4181\n"
     ]
    }
   ],
   "source": [
    "rv_h = st.hypergeom(70, 20, 6)\n",
    "\n",
    "ereignis = rv_h.pmf(0) + rv_h.pmf(1) + rv_h.pmf(2)\n",
    "\n",
    "rv_b = binom(4,ereignis)\n",
    "\n",
    "print('Wahrscheinlichkeit: p = %1.4f' %rv_b.pmf(3))\n"
   ]
  },
  {
   "cell_type": "markdown",
   "id": "0b003b64",
   "metadata": {},
   "source": [
    "Den Verlust bei 0, 1 oder 2 Richtigen habe ich mit mit der Binomialverteilung berechnet.\n",
    "Bei der Ausgabe habe ich .pfm weil das Ergebniss genau auf 3-mal sein muss."
   ]
  },
  {
   "cell_type": "code",
   "execution_count": null,
   "id": "440cc3a3",
   "metadata": {},
   "outputs": [],
   "source": []
  }
 ],
 "metadata": {
  "kernelspec": {
   "display_name": "Python 3 (ipykernel)",
   "language": "python",
   "name": "python3"
  },
  "language_info": {
   "codemirror_mode": {
    "name": "ipython",
    "version": 3
   },
   "file_extension": ".py",
   "mimetype": "text/x-python",
   "name": "python",
   "nbconvert_exporter": "python",
   "pygments_lexer": "ipython3",
   "version": "3.9.7"
  }
 },
 "nbformat": 4,
 "nbformat_minor": 5
}
