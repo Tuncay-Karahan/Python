{
 "cells": [
  {
   "cell_type": "code",
   "execution_count": 1,
   "id": "47c1a815",
   "metadata": {},
   "outputs": [],
   "source": [
    "import pandas\n",
    "import datetime\n",
    "beschaeftigte=pandas.read_csv(r'C:\\\\Users\\neonk\\Desktop\\Studium\\TIB 2\\Statistik\\Statistik Labor\\Labor\\Labor 1\\sr_aufg_1_35.txt', \n",
    "                     sep=';', encoding='unicode_escape', \n",
    "                     na_values='.', \n",
    "                     header=None, \n",
    "                     decimal=',',\n",
    "                     names=['Personal-nr.','Anrede', 'Vorname', 'Nachname', 'Geburtsdatum'])"
   ]
  },
  {
   "cell_type": "code",
   "execution_count": 2,
   "id": "cf442bd3",
   "metadata": {},
   "outputs": [],
   "source": [
    "pandas.set_option('display.max_rows', None)\n",
    "bf=beschaeftigte\n",
    "#bf"
   ]
  },
  {
   "cell_type": "code",
   "execution_count": 3,
   "id": "d4363871",
   "metadata": {},
   "outputs": [],
   "source": [
    "bf=bf.drop([23,39,41,54,64,65,71,73,81,100])"
   ]
  },
  {
   "cell_type": "code",
   "execution_count": 4,
   "id": "93fc1d25",
   "metadata": {},
   "outputs": [],
   "source": [
    "#bf"
   ]
  },
  {
   "cell_type": "code",
   "execution_count": 5,
   "id": "ea221572",
   "metadata": {},
   "outputs": [],
   "source": [
    "pandas.DataFrame.reset_index(bf, drop=True,inplace=True)\n",
    "#bf"
   ]
  },
  {
   "cell_type": "code",
   "execution_count": 6,
   "id": "e9d71f2e",
   "metadata": {},
   "outputs": [],
   "source": [
    "bf.at[7,'Vorname']='Siegfried'\n",
    "bf.at[7,'Nachname']='Metzger'\n",
    "bf.at[7,'Geburtsdatum']='16.02.1963'\n",
    "\n",
    "bf.at[21,'Geburtsdatum']='01.02.1965'"
   ]
  },
  {
   "cell_type": "code",
   "execution_count": 7,
   "id": "5deff0b1",
   "metadata": {},
   "outputs": [],
   "source": [
    "#bf"
   ]
  },
  {
   "cell_type": "code",
   "execution_count": 8,
   "id": "6b8c8d6b",
   "metadata": {},
   "outputs": [
    {
     "data": {
      "text/html": [
       "<div>\n",
       "<style scoped>\n",
       "    .dataframe tbody tr th:only-of-type {\n",
       "        vertical-align: middle;\n",
       "    }\n",
       "\n",
       "    .dataframe tbody tr th {\n",
       "        vertical-align: top;\n",
       "    }\n",
       "\n",
       "    .dataframe thead th {\n",
       "        text-align: right;\n",
       "    }\n",
       "</style>\n",
       "<table border=\"1\" class=\"dataframe\">\n",
       "  <thead>\n",
       "    <tr style=\"text-align: right;\">\n",
       "      <th></th>\n",
       "      <th>Personal-nr.</th>\n",
       "      <th>Anrede</th>\n",
       "      <th>Vorname</th>\n",
       "      <th>Nachname</th>\n",
       "      <th>Geburtsdatum</th>\n",
       "      <th>Datensatz</th>\n",
       "      <th>Typ des Fehlers</th>\n",
       "    </tr>\n",
       "  </thead>\n",
       "  <tbody>\n",
       "    <tr>\n",
       "      <th>7</th>\n",
       "      <td>8</td>\n",
       "      <td>Herr</td>\n",
       "      <td>Siegfried Metzger</td>\n",
       "      <td>16.02.1963</td>\n",
       "      <td></td>\n",
       "      <td>Korrektur</td>\n",
       "      <td>Falsch eingetragen</td>\n",
       "    </tr>\n",
       "    <tr>\n",
       "      <th>21</th>\n",
       "      <td>22</td>\n",
       "      <td>Frau</td>\n",
       "      <td>Elisabeth</td>\n",
       "      <td>Rau</td>\n",
       "      <td>im Februar 1965</td>\n",
       "      <td>Korrektur</td>\n",
       "      <td>Tag fehlt</td>\n",
       "    </tr>\n",
       "    <tr>\n",
       "      <th>23</th>\n",
       "      <td>24</td>\n",
       "      <td>Herr</td>\n",
       "      <td>Manfred</td>\n",
       "      <td>Wagner</td>\n",
       "      <td>VHVeHvZZXM</td>\n",
       "      <td>Gelöscht</td>\n",
       "      <td>Unsinn</td>\n",
       "    </tr>\n",
       "    <tr>\n",
       "      <th>39</th>\n",
       "      <td>40</td>\n",
       "      <td>Herr</td>\n",
       "      <td>Werner</td>\n",
       "      <td>Hartung</td>\n",
       "      <td>27.09.814</td>\n",
       "      <td>Gelöscht</td>\n",
       "      <td>Das Jahr kann nicht stimmen</td>\n",
       "    </tr>\n",
       "    <tr>\n",
       "      <th>41</th>\n",
       "      <td>42</td>\n",
       "      <td>Herr</td>\n",
       "      <td>Christoph</td>\n",
       "      <td>Weiß</td>\n",
       "      <td></td>\n",
       "      <td>Gelöscht</td>\n",
       "      <td>Kein Datum eingetragen</td>\n",
       "    </tr>\n",
       "    <tr>\n",
       "      <th>54</th>\n",
       "      <td>55</td>\n",
       "      <td>Frau</td>\n",
       "      <td>Heike</td>\n",
       "      <td>Schneider</td>\n",
       "      <td>unbekannt</td>\n",
       "      <td>Gelöscht</td>\n",
       "      <td>Geburtsdatum ist unbekannt</td>\n",
       "    </tr>\n",
       "    <tr>\n",
       "      <th>64</th>\n",
       "      <td>65</td>\n",
       "      <td>Herr</td>\n",
       "      <td>Oliver</td>\n",
       "      <td>Berger</td>\n",
       "      <td>xxxx</td>\n",
       "      <td>Gelöscht</td>\n",
       "      <td>xxxx ist kein Datum</td>\n",
       "    </tr>\n",
       "    <tr>\n",
       "      <th>65</th>\n",
       "      <td>66</td>\n",
       "      <td>Herr</td>\n",
       "      <td>Thomas</td>\n",
       "      <td>Alt</td>\n",
       "      <td>20.11.</td>\n",
       "      <td>Gelöscht</td>\n",
       "      <td>Das Jahr fehlt</td>\n",
       "    </tr>\n",
       "    <tr>\n",
       "      <th>73</th>\n",
       "      <td>74</td>\n",
       "      <td>Herr</td>\n",
       "      <td>Jochen</td>\n",
       "      <td>Walter</td>\n",
       "      <td>24.10.2824</td>\n",
       "      <td>Gelöscht</td>\n",
       "      <td>Das Jahr kann nicht stimmen</td>\n",
       "    </tr>\n",
       "    <tr>\n",
       "      <th>81</th>\n",
       "      <td>82</td>\n",
       "      <td>Frau</td>\n",
       "      <td>Dorothea</td>\n",
       "      <td>Seidel</td>\n",
       "      <td>xxxx</td>\n",
       "      <td>Gelöscht</td>\n",
       "      <td>xxxx ist kein Datum</td>\n",
       "    </tr>\n",
       "    <tr>\n",
       "      <th>100</th>\n",
       "      <td>101</td>\n",
       "      <td>Frau</td>\n",
       "      <td>Kerstin</td>\n",
       "      <td>Kaiser</td>\n",
       "      <td>12.12.2540</td>\n",
       "      <td>Gelöscht</td>\n",
       "      <td>Das Jahr kann nicht stimmen</td>\n",
       "    </tr>\n",
       "  </tbody>\n",
       "</table>\n",
       "</div>"
      ],
      "text/plain": [
       "    Personal-nr. Anrede            Vorname    Nachname     Geburtsdatum  \\\n",
       "7              8   Herr  Siegfried Metzger  16.02.1963                    \n",
       "21            22   Frau          Elisabeth         Rau  im Februar 1965   \n",
       "23            24   Herr            Manfred      Wagner       VHVeHvZZXM   \n",
       "39            40   Herr             Werner     Hartung        27.09.814   \n",
       "41            42   Herr          Christoph        Weiß                    \n",
       "54            55   Frau              Heike   Schneider        unbekannt   \n",
       "64            65   Herr             Oliver      Berger             xxxx   \n",
       "65            66   Herr             Thomas         Alt           20.11.   \n",
       "73            74   Herr             Jochen      Walter       24.10.2824   \n",
       "81            82   Frau           Dorothea      Seidel             xxxx   \n",
       "100          101   Frau            Kerstin      Kaiser       12.12.2540   \n",
       "\n",
       "     Datensatz              Typ des Fehlers  \n",
       "7    Korrektur           Falsch eingetragen  \n",
       "21   Korrektur                    Tag fehlt  \n",
       "23    Gelöscht                       Unsinn  \n",
       "39    Gelöscht  Das Jahr kann nicht stimmen  \n",
       "41    Gelöscht       Kein Datum eingetragen  \n",
       "54    Gelöscht   Geburtsdatum ist unbekannt  \n",
       "64    Gelöscht          xxxx ist kein Datum  \n",
       "65    Gelöscht               Das Jahr fehlt  \n",
       "73    Gelöscht  Das Jahr kann nicht stimmen  \n",
       "81    Gelöscht          xxxx ist kein Datum  \n",
       "100   Gelöscht  Das Jahr kann nicht stimmen  "
      ]
     },
     "execution_count": 8,
     "metadata": {},
     "output_type": "execute_result"
    }
   ],
   "source": [
    "korrektur = pandas.DataFrame(columns=['Personal-nr.', 'Anrede', 'Vorname', 'Nachname', 'Geburtsdatum', 'Datensatz', 'Typ des Fehlers'])\n",
    "korrektur.loc[7]=pandas.Series({'Personal-nr.':'8', 'Anrede':'Herr', 'Vorname':'Siegfried Metzger', 'Nachname':'16.02.1963', 'Geburtsdatum':' ', 'Datensatz':'Korrektur', 'Typ des Fehlers':'Falsch eingetragen'})  \n",
    "korrektur.loc[21]=pandas.Series({'Personal-nr.':'22', 'Anrede':'Frau', 'Vorname':'Elisabeth', 'Nachname':'Rau', 'Geburtsdatum':'im Februar 1965', 'Datensatz':'Korrektur', 'Typ des Fehlers':'Tag fehlt'})  \n",
    "korrektur.loc[23]=pandas.Series({'Personal-nr.':'24', 'Anrede':'Herr', 'Vorname':'Manfred', 'Nachname':'Wagner', 'Geburtsdatum':'VHVeHvZZXM', 'Datensatz':'Gelöscht', 'Typ des Fehlers':'Unsinn'})  \n",
    "korrektur.loc[39]=pandas.Series({'Personal-nr.':'40', 'Anrede':'Herr', 'Vorname':'Werner', 'Nachname':'Hartung', 'Geburtsdatum':'27.09.814', 'Datensatz':'Gelöscht', 'Typ des Fehlers':'Das Jahr kann nicht stimmen'})  \n",
    "korrektur.loc[41]=pandas.Series({'Personal-nr.':'42', 'Anrede':'Herr', 'Vorname':'Christoph', 'Nachname':'Weiß', 'Geburtsdatum':' ', 'Datensatz':'Gelöscht', 'Typ des Fehlers':'Kein Datum eingetragen'})  \n",
    "korrektur.loc[54]=pandas.Series({'Personal-nr.':'55', 'Anrede':'Frau', 'Vorname':'Heike', 'Nachname':'Schneider', 'Geburtsdatum':'unbekannt', 'Datensatz':'Gelöscht', 'Typ des Fehlers':'Geburtsdatum ist unbekannt'})  \n",
    "korrektur.loc[64]=pandas.Series({'Personal-nr.':'65', 'Anrede':'Herr', 'Vorname':'Oliver', 'Nachname':'Berger', 'Geburtsdatum':'xxxx', 'Datensatz':'Gelöscht', 'Typ des Fehlers':'xxxx ist kein Datum'})  \n",
    "korrektur.loc[65]=pandas.Series({'Personal-nr.':'66', 'Anrede':'Herr', 'Vorname':'Thomas', 'Nachname':'Alt', 'Geburtsdatum':'20.11.', 'Datensatz':'Gelöscht', 'Typ des Fehlers':'Das Jahr fehlt'})  \n",
    "korrektur.loc[73]=pandas.Series({'Personal-nr.':'74', 'Anrede':'Herr', 'Vorname':'Jochen', 'Nachname':'Walter', 'Geburtsdatum':'24.10.2824', 'Datensatz':'Gelöscht', 'Typ des Fehlers':'Das Jahr kann nicht stimmen'})  \n",
    "korrektur.loc[81]=pandas.Series({'Personal-nr.':'82', 'Anrede':'Frau', 'Vorname':'Dorothea', 'Nachname':'Seidel', 'Geburtsdatum':'xxxx', 'Datensatz':'Gelöscht', 'Typ des Fehlers':'xxxx ist kein Datum'})  \n",
    "korrektur.loc[100]=pandas.Series({'Personal-nr.':'101', 'Anrede':'Frau', 'Vorname':'Kerstin', 'Nachname':'Kaiser', 'Geburtsdatum':'12.12.2540', 'Datensatz':'Gelöscht', 'Typ des Fehlers':'Das Jahr kann nicht stimmen'})  \n",
    "\n",
    "korrektur"
   ]
  },
  {
   "cell_type": "code",
   "execution_count": 9,
   "id": "bec874df",
   "metadata": {},
   "outputs": [],
   "source": [
    "beschaeftigte_neu = pandas.DataFrame(columns=['Personal-nr.', 'Anrede', 'Vorname', 'Nachname', 'Geburtsdatum', 'Alter'])\n",
    "\n",
    "for x in range(len(bf)):\n",
    "    \n",
    "    strdate=(bf.at[x, 'Geburtsdatum'])\n",
    "\n",
    "    #print(strdate)\n",
    "    datetimeobj=datetime.datetime.strptime(strdate, \"%d.%m.%Y\")\n",
    "    beschaeftigte_neu.loc[x]= bf.loc[x].copy()\n",
    "    beschaeftigte_neu.at[x,'Alter']=2005-datetimeobj.year\n",
    "\n",
    "        \n",
    "#beschaeftigte_neu"
   ]
  },
  {
   "cell_type": "code",
   "execution_count": 10,
   "id": "2951ed8f",
   "metadata": {},
   "outputs": [],
   "source": [
    "sortedlist=beschaeftigte_neu.sort_values('Anrede')\n",
    "pandas.DataFrame.reset_index(sortedlist, drop=True,inplace=True)\n",
    "#sortedlist"
   ]
  },
  {
   "cell_type": "code",
   "execution_count": null,
   "id": "a5afae42",
   "metadata": {},
   "outputs": [],
   "source": []
  },
  {
   "cell_type": "code",
   "execution_count": 12,
   "id": "9fc7f74b",
   "metadata": {},
   "outputs": [],
   "source": [
    "man0_20 =0\n",
    "wom0_20 =0\n",
    "\n",
    "man20_30=0\n",
    "wom20_30=0\n",
    "\n",
    "man30_40=0\n",
    "wom30_40=0\n",
    "\n",
    "man40_50=0\n",
    "wom40_50=0\n",
    "\n",
    "man50=0\n",
    "wom50=0\n",
    "\n",
    "totalman=0\n",
    "totalwom=0\n",
    "\n",
    "manlist = pandas.DataFrame(columns=['alter'])\n",
    "womanlist = pandas.DataFrame(columns=['alter'])\n",
    "\n",
    "for x in range(len(beschaeftigte_neu)):\n",
    "\n",
    "    if (beschaeftigte_neu.at[x, 'Anrede']=='Herr'):\n",
    "        totalman = totalman + beschaeftigte_neu.at[x, 'Alter']\n",
    "        manlist.at[x,'alter']=beschaeftigte_neu.at[x, 'Alter']\n",
    "        if (beschaeftigte_neu.at[x, 'Alter']<21):\n",
    "            man0_20+= 1\n",
    "        elif(beschaeftigte_neu.at[x, 'Alter']>20 and beschaeftigte_neu.at[x, 'Alter']<31):\n",
    "            man20_30+= 1\n",
    "        elif(beschaeftigte_neu.at[x, 'Alter']>30 and beschaeftigte_neu.at[x, 'Alter']<41):\n",
    "            man30_40+= 1\n",
    "        elif(beschaeftigte_neu.at[x, 'Alter']>40 and beschaeftigte_neu.at[x, 'Alter']<51):\n",
    "            man40_50+= 1\n",
    "        else:\n",
    "            man50+= 1\n",
    "\n",
    "    elif (beschaeftigte_neu.at[x, 'Anrede']=='Frau'):\n",
    "        totalwom = totalwom + beschaeftigte_neu.at[x, 'Alter']\n",
    "        womanlist.at[x,'alter']=beschaeftigte_neu.at[x, 'Alter']\n",
    "        if (beschaeftigte_neu.at[x, 'Alter']<21):\n",
    "            wom0_20+= 1\n",
    "        elif(beschaeftigte_neu.at[x, 'Alter']>20 and beschaeftigte_neu.at[x, 'Alter']<31):\n",
    "            wom20_30+= 1\n",
    "        elif(beschaeftigte_neu.at[x, 'Alter']>30 and beschaeftigte_neu.at[x, 'Alter']<41):\n",
    "            wom30_40+= 1\n",
    "        elif(beschaeftigte_neu.at[x, 'Alter']>40 and beschaeftigte_neu.at[x, 'Alter']<51):\n",
    "            wom40_50+= 1\n",
    "        else:\n",
    "            wom50+= 1"
   ]
  },
  {
   "cell_type": "code",
   "execution_count": 13,
   "id": "197cc272",
   "metadata": {},
   "outputs": [
    {
     "data": {
      "image/png": "[encoded data removed]",
      "text/plain": [
       "<Figure size 432x288 with 1 Axes>"
      ]
     },
     "metadata": {
      "needs_background": "light"
     },
     "output_type": "display_data"
    }
   ],
   "source": [
    "import numpy as np \n",
    "import matplotlib.pyplot as plt \n",
    "  \n",
    "X = ['(0,20])','(20,30]','(30,40]','(40,50]','(50,200]']\n",
    "Ygirls = [wom0_20,wom20_30,wom30_40,wom40_50,wom50]\n",
    "Zboys = [man0_20,man20_30,man30_40,man40_50,man50]\n",
    "  \n",
    "X_axis = np.arange(len(X))\n",
    "  \n",
    "plt.bar(X_axis - 0.2, Ygirls, 0.4, label = 'Girls')\n",
    "plt.bar(X_axis + 0.2, Zboys, 0.4, label = 'Boys')\n",
    "  \n",
    "plt.xticks(X_axis, X)\n",
    "plt.ylabel(\"Häufigkeit\")\n",
    "plt.title(\"Altersverteilung Männer und Frauen zum Stichtag 31.12.2005\")\n",
    "plt.legend()\n",
    "plt.show()"
   ]
  },
  {
   "cell_type": "code",
   "execution_count": null,
   "id": "a0c90ce6",
   "metadata": {},
   "outputs": [],
   "source": []
  },
  {
   "cell_type": "code",
   "execution_count": 14,
   "id": "c309b0dc",
   "metadata": {},
   "outputs": [
    {
     "data": {
      "image/png": "[encoded data removed]",
      "text/plain": [
       "<Figure size 720x504 with 1 Axes>"
      ]
     },
     "metadata": {},
     "output_type": "display_data"
    }
   ],
   "source": [
    "# Creating dataset\n",
    "alter = ['(0,20])','(20,30]','(30,40]','(40,50]','(50,200]']\n",
    "man = [man0_20,man20_30,man30_40,man40_50,man50]\n",
    "\n",
    "# Creating autocpt arguments\n",
    "def func(pct, allvalues):\n",
    "    absolute = int(pct / 100.*np.sum(allvalues))\n",
    "    return \"{:.1f}%\".format(pct, absolute)\n",
    "\n",
    "# Creating plot\n",
    "fig = plt.figure(figsize =(10, 7))\n",
    "plt.pie(man, labels = alter, autopct=lambda pct: func(pct, man))\n",
    "  \n",
    "# show plot\n",
    "plt.show()"
   ]
  },
  {
   "cell_type": "code",
   "execution_count": 15,
   "id": "808656b4",
   "metadata": {},
   "outputs": [
    {
     "data": {
      "image/png": "[encoded data removed]",
      "text/plain": [
       "<Figure size 720x504 with 1 Axes>"
      ]
     },
     "metadata": {},
     "output_type": "display_data"
    }
   ],
   "source": [
    "# Creating dataset\n",
    "alter = ['(0,20])','(20,30]','(30,40]','(40,50]','(50,200]']\n",
    "woman = [wom0_20,wom20_30,wom30_40,wom40_50,wom50]\n",
    "\n",
    "# Creating autocpt arguments\n",
    "def func(pct, allvalues):\n",
    "    absolute = int(pct / 100.*np.sum(allvalues))\n",
    "    return \"{:.1f}%\".format(pct, absolute)\n",
    "\n",
    "# Creating plot\n",
    "fig = plt.figure(figsize =(10, 7))\n",
    "plt.pie(woman, labels = alter, autopct=lambda pct: func(pct, woman))\n",
    "  \n",
    "# show plot\n",
    "plt.show()"
   ]
  },
  {
   "cell_type": "code",
   "execution_count": null,
   "id": "7d74b60f",
   "metadata": {},
   "outputs": [],
   "source": []
  },
  {
   "cell_type": "code",
   "execution_count": 16,
   "id": "46e43bea",
   "metadata": {},
   "outputs": [
    {
     "name": "stdout",
     "output_type": "stream",
     "text": [
      "Kennzahlen\n"
     ]
    },
    {
     "data": {
      "text/html": [
       "<div>\n",
       "<style scoped>\n",
       "    .dataframe tbody tr th:only-of-type {\n",
       "        vertical-align: middle;\n",
       "    }\n",
       "\n",
       "    .dataframe tbody tr th {\n",
       "        vertical-align: top;\n",
       "    }\n",
       "\n",
       "    .dataframe thead th {\n",
       "        text-align: right;\n",
       "    }\n",
       "</style>\n",
       "<table border=\"1\" class=\"dataframe\">\n",
       "  <thead>\n",
       "    <tr style=\"text-align: right;\">\n",
       "      <th></th>\n",
       "      <th></th>\n",
       "      <th>gesamt</th>\n",
       "      <th>Frauen</th>\n",
       "      <th>Männer</th>\n",
       "    </tr>\n",
       "  </thead>\n",
       "  <tbody>\n",
       "    <tr>\n",
       "      <th>0</th>\n",
       "      <td>Mittelwert</td>\n",
       "      <td>39.9412</td>\n",
       "      <td>36.0196</td>\n",
       "      <td>43.8627</td>\n",
       "    </tr>\n",
       "    <tr>\n",
       "      <th>1</th>\n",
       "      <td>Varianz</td>\n",
       "      <td>153.7589</td>\n",
       "      <td>98.9796</td>\n",
       "      <td>180.2408</td>\n",
       "    </tr>\n",
       "    <tr>\n",
       "      <th>2</th>\n",
       "      <td>Std.-Abw.</td>\n",
       "      <td>12.4000</td>\n",
       "      <td>9.9488</td>\n",
       "      <td>13.4254</td>\n",
       "    </tr>\n",
       "    <tr>\n",
       "      <th>3</th>\n",
       "      <td>Median</td>\n",
       "      <td>39.0000</td>\n",
       "      <td>35.0000</td>\n",
       "      <td>47.0000</td>\n",
       "    </tr>\n",
       "    <tr>\n",
       "      <th>4</th>\n",
       "      <td>Spannweite</td>\n",
       "      <td>46.0000</td>\n",
       "      <td>45.0000</td>\n",
       "      <td>46.0000</td>\n",
       "    </tr>\n",
       "  </tbody>\n",
       "</table>\n",
       "</div>"
      ],
      "text/plain": [
       "                 gesamt   Frauen    Männer\n",
       "0  Mittelwert   39.9412  36.0196   43.8627\n",
       "1     Varianz  153.7589  98.9796  180.2408\n",
       "2   Std.-Abw.   12.4000   9.9488   13.4254\n",
       "3      Median   39.0000  35.0000   47.0000\n",
       "4  Spannweite   46.0000  45.0000   46.0000"
      ]
     },
     "execution_count": 16,
     "metadata": {},
     "output_type": "execute_result"
    }
   ],
   "source": [
    "kennzahlen = pandas.DataFrame(columns=[' ', 'gesamt', 'Frauen', 'Männer'])\n",
    "kennzahlen.loc[0]=pandas.Series({' ':'Mittelwert'  ,  'gesamt':(\"{:.4f}\".format(beschaeftigte_neu['Alter'].mean())), 'Frauen':(\"{:.4f}\".format(womanlist['alter'].mean())),\n",
    "                                'Männer':(\"{:.4f}\".format(manlist['alter'].mean())) })\n",
    "kennzahlen.loc[1]=pandas.Series({' ':'Varianz'  ,    'gesamt':(\"{:.4f}\".format(beschaeftigte_neu['Alter'].var())), 'Frauen':(\"{:.4f}\".format(womanlist['alter'].var())),\n",
    "                                'Männer':(\"{:.4f}\".format(manlist['alter'].var())) })\n",
    "kennzahlen.loc[2]=pandas.Series({' ':'Std.-Abw.'  ,    'gesamt':(\"{:.4f}\".format(beschaeftigte_neu['Alter'].std())), 'Frauen':(\"{:.4f}\".format(womanlist['alter'].std())),\n",
    "                                'Männer':(\"{:.4f}\".format(manlist['alter'].std())) })\n",
    "kennzahlen.loc[3]=pandas.Series({' ':'Median'  ,  'gesamt':(\"{:.4f}\".format(beschaeftigte_neu['Alter'].median())), 'Frauen':(\"{:.4f}\".format(womanlist['alter'].median())),\n",
    "                                'Männer':(\"{:.4f}\".format(manlist['alter'].median())) })\n",
    "kennzahlen.loc[4]=pandas.Series({' ':'Spannweite'  ,  'gesamt':(\"{:.4f}\".format(beschaeftigte_neu['Alter'].max()-beschaeftigte_neu['Alter'].min())), 'Frauen':(\"{:.4f}\".format(womanlist['alter'].max()-womanlist['alter'].min())),\n",
    "                                'Männer':(\"{:.4f}\".format(manlist['alter'].max()-manlist['alter'].min())) })\n",
    "print('Kennzahlen')\n",
    "kennzahlen"
   ]
  }
 ],
 "metadata": {
  "kernelspec": {
   "display_name": "Python 3 (ipykernel)",
   "language": "python",
   "name": "python3"
  },
  "language_info": {
   "codemirror_mode": {
    "name": "ipython",
    "version": 3
   },
   "file_extension": ".py",
   "mimetype": "text/x-python",
   "name": "python",
   "nbconvert_exporter": "python",
   "pygments_lexer": "ipython3",
   "version": "3.9.7"
  }
 },
 "nbformat": 4,
 "nbformat_minor": 5
}
