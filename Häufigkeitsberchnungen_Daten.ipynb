{
 "cells": [
  {
   "cell_type": "code",
   "execution_count": 1,
   "id": "38ef0722",
   "metadata": {},
   "outputs": [],
   "source": [
    "import numpy as np\n",
    "import pandas\n",
    "import matplotlib.pyplot as plt\n",
    "import math\n",
    "from operator import itemgetter\n",
    "import scipy.special\n",
    "from scipy.stats import norm"
   ]
  },
  {
   "cell_type": "markdown",
   "id": "eeb2547b",
   "metadata": {},
   "source": [
    "## Aufgabe A)"
   ]
  },
  {
   "cell_type": "code",
   "execution_count": 2,
   "id": "0414275c",
   "metadata": {},
   "outputs": [],
   "source": [
    "X1=pandas.read_csv(r'C:\\\\Users\\neonk\\Desktop\\Statistik Labor\\Labor\\Labor 4\\sr_aufg_4_35_MR1.txt',\n",
    "        sep=' ',\n",
    "        header=None,\n",
    "        decimal=',',\n",
    "        names=['Messreihen'])\n",
    "pandas.set_option('display.max_rows', None)\n",
    "#X1_U=X1.sort_values(by=['Messreihen'])\n",
    "\n",
    "X2=pandas.read_csv(r'C:\\\\Users\\neonk\\Desktop\\Statistik Labor\\Labor\\Labor 4\\sr_aufg_4_35_MR2.txt',\n",
    "        sep=' ',\n",
    "        header=None,\n",
    "        decimal=',',\n",
    "        names=['Messreihen2'])\n",
    "pandas.set_option('display.max_rows', None)\n",
    "#X2_U=X2.sort_values(by=['Messreihen2'])\n",
    "\n",
    "X3=pandas.read_csv(r'C:\\\\Users\\neonk\\Desktop\\Statistik Labor\\Labor\\Labor 4\\sr_aufg_4_35_MR3.txt',\n",
    "        sep=' ',\n",
    "        header=None,\n",
    "        decimal=',',\n",
    "        names=['Messreihen3'])\n",
    "pandas.set_option('display.max_rows', None)\n",
    "#X3_U=X3.sort_values(by=['Messreihen3'])"
   ]
  },
  {
   "cell_type": "markdown",
   "id": "0ae7ebd4",
   "metadata": {},
   "source": [
    "## Aufgabe B)"
   ]
  },
  {
   "cell_type": "code",
   "execution_count": null,
   "id": "e7ea4712",
   "metadata": {},
   "outputs": [],
   "source": [
    "Mittelwert =X1['Messreihen'].mean()\n",
    "Mittelwert2 =X2['Messreihen2'].mean()\n",
    "Mittelwert3 =X3['Messreihen3'].mean()\n",
    "\n",
    "varianz=X1['Messreihen'].var()\n",
    "varianz2=X2['Messreihen2'].var()\n",
    "varianz3=X3['Messreihen3'].var()\n",
    "\n",
    "standardabweichung=X1['Messreihen'].std()\n",
    "standardabweichung2=X2['Messreihen2'].std()\n",
    "standardabweichung3=X3['Messreihen3'].std()\n",
    "\n",
    "median=X1['Messreihen'].median()\n",
    "median2=X2['Messreihen2'].median()\n",
    "median3=X3['Messreihen3'].median()\n",
    "\n",
    "spannweite=X1['Messreihen'].max()-X1['Messreihen'].min()\n",
    "spannweite2=X2['Messreihen2'].max()-X2['Messreihen2'].min()\n",
    "spannweite3=X3['Messreihen3'].max()-X3['Messreihen3'].min()"
   ]
  },
  {
   "cell_type": "code",
   "execution_count": 3,
   "id": "cd1c3f67",
   "metadata": {},
   "outputs": [
    {
     "name": "stdout",
     "output_type": "stream",
     "text": [
      "Mittelwert 1: 388.9164, Mittelwert 2: 53.6083, Mittelwert 3: 7.0063\n"
     ]
    }
   ],
   "source": [
    "print('Mittelwert 1: %4.4f, Mittelwert 2: %4.4f, Mittelwert 3: %4.4f'\n",
    " % (Mittelwert, Mittelwert2, Mittelwert3))"
   ]
  },
  {
   "cell_type": "code",
   "execution_count": 4,
   "id": "edb26059",
   "metadata": {},
   "outputs": [
    {
     "name": "stdout",
     "output_type": "stream",
     "text": [
      "varianz 1: 3.8441, varianz 2: 0.1426, varianz 3: 5.4403\n"
     ]
    }
   ],
   "source": [
    "print('varianz 1: %4.4f, varianz 2: %4.4f, varianz 3: %4.4f'\n",
    " % (varianz, varianz2, varianz3))"
   ]
  },
  {
   "cell_type": "code",
   "execution_count": 5,
   "id": "da885e25",
   "metadata": {},
   "outputs": [
    {
     "name": "stdout",
     "output_type": "stream",
     "text": [
      "standardabweichung 1: 1.9606, standardabweichung 2: 0.3777, standardabweichung 3: 2.3324\n"
     ]
    }
   ],
   "source": [
    "print('standardabweichung 1: %4.4f, standardabweichung 2: %4.4f, standardabweichung 3: %4.4f'\n",
    " % (standardabweichung, standardabweichung2, standardabweichung3))"
   ]
  },
  {
   "cell_type": "code",
   "execution_count": 6,
   "id": "00f1ef58",
   "metadata": {},
   "outputs": [
    {
     "name": "stdout",
     "output_type": "stream",
     "text": [
      "median 1: 388.8469, median 2: 53.7133, median 3: 6.9713\n"
     ]
    }
   ],
   "source": [
    "print('median 1: %4.4f, median 2: %4.4f, median 3: %4.4f'\n",
    " % (median, median2, median3))"
   ]
  },
  {
   "cell_type": "code",
   "execution_count": 7,
   "id": "84b6468c",
   "metadata": {},
   "outputs": [
    {
     "name": "stdout",
     "output_type": "stream",
     "text": [
      "spannweite 1: 9.8708, spannweite 2: 1.9879, spannweite 3: 5.9050\n"
     ]
    }
   ],
   "source": [
    "print('spannweite 1: %4.4f, spannweite 2: %4.4f, spannweite 3: %4.4f'\n",
    " % (spannweite, spannweite2, spannweite3))"
   ]
  },
  {
   "cell_type": "markdown",
   "id": "56ad4c21",
   "metadata": {},
   "source": [
    "## Aufgabe C)\n",
    "Um die Histogramme zu plotten habe ich die “matplotlib” Bibliothek genutzt (plt.hist()). Die\n",
    "Angabe der Klassen(Bins) werden automatisch erzeugt. Für eine bessere darstellung habe ich die “bins”\n",
    "auf 10 gestellt."
   ]
  },
  {
   "cell_type": "code",
   "execution_count": 8,
   "id": "787592f9",
   "metadata": {},
   "outputs": [
    {
     "data": {
      "image/png": "[encoded data removed]",
      "text/plain": [
       "<Figure size 720x360 with 1 Axes>"
      ]
     },
     "metadata": {
      "needs_background": "light"
     },
     "output_type": "display_data"
    }
   ],
   "source": [
    "plt.figure(figsize=(10, 5))\n",
    "plt.hist(X1, 10, color='lightgreen')\n",
    "plt.title('Histogramm für die Messreihe 1')\n",
    "plt.xlabel('Daten')\n",
    "plt.ylabel('Häufigkeit')\n",
    "plt.grid()\n",
    "plt.show()"
   ]
  },
  {
   "cell_type": "markdown",
   "id": "a5009290",
   "metadata": {},
   "source": [
    "# Aufgabe D)\n",
    "In Messreihe 1  kann man eine Glockenform sehen, d.h. es liegt eine Normverteilung vor."
   ]
  },
  {
   "cell_type": "code",
   "execution_count": 9,
   "id": "d5f32ba6",
   "metadata": {},
   "outputs": [
    {
     "data": {
      "image/png": "[encoded data removed]",
      "text/plain": [
       "<Figure size 720x360 with 1 Axes>"
      ]
     },
     "metadata": {
      "needs_background": "light"
     },
     "output_type": "display_data"
    }
   ],
   "source": [
    "plt.figure(figsize=(10, 5))\n",
    "plt.hist(X2, 10, color='skyblue')\n",
    "plt.title('Histogramm für die Messreihe 2')\n",
    "plt.xlabel('Daten')\n",
    "plt.ylabel('Häufigkeit')\n",
    "plt.grid()\n",
    "plt.show()"
   ]
  },
  {
   "cell_type": "code",
   "execution_count": 10,
   "id": "3f649ee3",
   "metadata": {},
   "outputs": [
    {
     "data": {
      "image/png": "[encoded data removed]",
      "text/plain": [
       "<Figure size 720x360 with 1 Axes>"
      ]
     },
     "metadata": {
      "needs_background": "light"
     },
     "output_type": "display_data"
    }
   ],
   "source": [
    "plt.figure(figsize=(10, 5))\n",
    "plt.hist(X3, 10, color='pink')\n",
    "plt.title('Histogramm für die Messreihe 2')\n",
    "plt.xlabel('Daten')\n",
    "plt.ylabel('Häufigkeit')\n",
    "plt.grid()\n",
    "plt.show()"
   ]
  },
  {
   "cell_type": "markdown",
   "id": "24e033da",
   "metadata": {},
   "source": [
    "## Aufgabe E)"
   ]
  },
  {
   "cell_type": "code",
   "execution_count": 17,
   "id": "c01ec5cd",
   "metadata": {},
   "outputs": [
    {
     "data": {
      "image/png": "[encoded data removed]",
      "text/plain": [
       "<Figure size 720x360 with 1 Axes>"
      ]
     },
     "metadata": {
      "needs_background": "light"
     },
     "output_type": "display_data"
    }
   ],
   "source": [
    "x_axis=np.arange(384,394,0.1)\n",
    "plt.figure(figsize=(10, 5))\n",
    "plt.plot(x_axis, 100*norm.pdf(x_axis, Mittelwert, standardabweichung), color='red')\n",
    "plt.hist(X1,color='grey')\n",
    "plt.xlabel('Daten')\n",
    "plt.ylabel('Häufigkeit')\n",
    "plt.grid()\n",
    "plt.show()"
   ]
  },
  {
   "cell_type": "markdown",
   "id": "b1fdaf92",
   "metadata": {},
   "source": []
  },
  {
   "cell_type": "code",
   "execution_count": null,
   "id": "f946b1d7",
   "metadata": {},
   "outputs": [],
   "source": []
  }
 ],
 "metadata": {
  "kernelspec": {
   "display_name": "Python 3 (ipykernel)",
   "language": "python",
   "name": "python3"
  },
  "language_info": {
   "codemirror_mode": {
    "name": "ipython",
    "version": 3
   },
   "file_extension": ".py",
   "mimetype": "text/x-python",
   "name": "python",
   "nbconvert_exporter": "python",
   "pygments_lexer": "ipython3",
   "version": "3.9.12"
  }
 },
 "nbformat": 4,
 "nbformat_minor": 5
}
