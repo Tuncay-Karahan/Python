{
 "cells": [
  {
   "cell_type": "code",
   "execution_count": 1,
   "id": "07b4b7e0",
   "metadata": {},
   "outputs": [],
   "source": [
    "import sympy as sp"
   ]
  },
  {
   "cell_type": "code",
   "execution_count": 2,
   "id": "d4751723",
   "metadata": {},
   "outputs": [],
   "source": [
    "from math import sin, cos"
   ]
  },
  {
   "cell_type": "code",
   "execution_count": 3,
   "id": "ce13b77b",
   "metadata": {},
   "outputs": [],
   "source": [
    "t = sp.Symbol('t')\n",
    "x = sp.Function('x')(t)"
   ]
  },
  {
   "cell_type": "code",
   "execution_count": 4,
   "id": "d09e9ad9",
   "metadata": {},
   "outputs": [],
   "source": [
    "xp = sp.Derivative(x)\n",
    "xpp = sp.Derivative(xp)"
   ]
  },
  {
   "cell_type": "code",
   "execution_count": 5,
   "id": "43bbcab4",
   "metadata": {},
   "outputs": [
    {
     "data": {
      "text/latex": [
       "$\\displaystyle \\frac{d^{2}}{d t^{2}} x{\\left(t \\right)}$"
      ],
      "text/plain": [
       "Derivative(x(t), (t, 2))"
      ]
     },
     "execution_count": 5,
     "metadata": {},
     "output_type": "execute_result"
    }
   ],
   "source": [
    "xpp"
   ]
  },
  {
   "cell_type": "code",
   "execution_count": 6,
   "id": "9b431e00",
   "metadata": {},
   "outputs": [
    {
     "data": {
      "text/latex": [
       "$\\displaystyle x{\\left(t \\right)} = \\left(C_{1} + C_{2} e^{- t}\\right) e^{- t}$"
      ],
      "text/plain": [
       "Eq(x(t), (C1 + C2*exp(-t))*exp(-t))"
      ]
     },
     "execution_count": 6,
     "metadata": {},
     "output_type": "execute_result"
    }
   ],
   "source": [
    "ode = sp.Eq(xpp+3*xp+2*x,0)\n",
    "sp.dsolve(ode)"
   ]
  },
  {
   "cell_type": "code",
   "execution_count": 7,
   "id": "17f71aea",
   "metadata": {},
   "outputs": [
    {
     "data": {
      "text/latex": [
       "$\\displaystyle x{\\left(t \\right)} = C_{1} e^{- 2 t} + C_{2} e^{- t} + \\frac{\\sin{\\left(t \\right)}}{5} - \\frac{3 \\cos{\\left(t \\right)}}{5}$"
      ],
      "text/plain": [
       "Eq(x(t), C1*exp(-2*t) + C2*exp(-t) + sin(t)/5 - 3*cos(t)/5)"
      ]
     },
     "execution_count": 7,
     "metadata": {},
     "output_type": "execute_result"
    }
   ],
   "source": [
    "ode = sp.Eq(xpp+3*xp+2*x,2*sp.sin(t))\n",
    "sp.dsolve(ode)"
   ]
  },
  {
   "cell_type": "code",
   "execution_count": 8,
   "id": "3f62b04e",
   "metadata": {},
   "outputs": [],
   "source": [
    "initconds = {x.subs(t, 0): 0, xp.subs(t, 0): 1}\n",
    "sol = sp.dsolve(ode,ics=initconds)"
   ]
  },
  {
   "cell_type": "code",
   "execution_count": 9,
   "id": "f5ddde8d",
   "metadata": {},
   "outputs": [
    {
     "data": {
      "text/latex": [
       "$\\displaystyle x{\\left(t \\right)} = \\frac{\\sin{\\left(t \\right)}}{5} - \\frac{3 \\cos{\\left(t \\right)}}{5} + 2 e^{- t} - \\frac{7 e^{- 2 t}}{5}$"
      ],
      "text/plain": [
       "Eq(x(t), sin(t)/5 - 3*cos(t)/5 + 2*exp(-t) - 7*exp(-2*t)/5)"
      ]
     },
     "execution_count": 9,
     "metadata": {},
     "output_type": "execute_result"
    }
   ],
   "source": [
    "sol"
   ]
  },
  {
   "cell_type": "code",
   "execution_count": 10,
   "id": "45d9c8f8",
   "metadata": {},
   "outputs": [
    {
     "data": {
      "image/png": "[encoded data removed]",
      "text/plain": [
       "<Figure size 432x288 with 1 Axes>"
      ]
     },
     "metadata": {
      "needs_background": "light"
     },
     "output_type": "display_data"
    },
    {
     "data": {
      "text/plain": [
       "<sympy.plotting.plot.Plot at 0x220bdfe4370>"
      ]
     },
     "execution_count": 10,
     "metadata": {},
     "output_type": "execute_result"
    }
   ],
   "source": [
    "sp.plot(sol.rhs,(t,0.0,10.0))"
   ]
  },
  {
   "cell_type": "code",
   "execution_count": null,
   "id": "8fe8b897",
   "metadata": {},
   "outputs": [],
   "source": []
  }
 ],
 "metadata": {
  "kernelspec": {
   "display_name": "Python 3 (ipykernel)",
   "language": "python",
   "name": "python3"
  },
  "language_info": {
   "codemirror_mode": {
    "name": "ipython",
    "version": 3
   },
   "file_extension": ".py",
   "mimetype": "text/x-python",
   "name": "python",
   "nbconvert_exporter": "python",
   "pygments_lexer": "ipython3",
   "version": "3.9.12"
  }
 },
 "nbformat": 4,
 "nbformat_minor": 5
}
